{
 "cells": [
  {
   "cell_type": "markdown",
   "id": "653cf042-be24-4c90-ab41-5f2604da0253",
   "metadata": {},
   "source": [
    "# B.1 TBOX definition"
   ]
  },
  {
   "cell_type": "code",
   "execution_count": 1,
   "id": "af517972-9cc3-46a0-a3ea-ab63f8694d0d",
   "metadata": {},
   "outputs": [],
   "source": [
    "from rdflib import Graph, Namespace, Literal\n",
    "from rdflib.namespace import RDFS, RDF, XSD"
   ]
  },
  {
   "cell_type": "markdown",
   "id": "a3aec117-00ba-4d5b-bc46-00053319a8d7",
   "metadata": {},
   "source": [
    "Define the namespace"
   ]
  },
  {
   "cell_type": "code",
   "execution_count": 2,
   "id": "b06ba53c-ff83-4861-9e8c-22346e0a5452",
   "metadata": {},
   "outputs": [],
   "source": [
    "LAB = Namespace('http://www.example.edu/')"
   ]
  },
  {
   "cell_type": "markdown",
   "id": "82f91516-a51a-453c-81b5-df913871e496",
   "metadata": {},
   "source": [
    "In this section, we want to define the TBOX, that is, the conceptual level of entities and their inter-relationships."
   ]
  },
  {
   "cell_type": "code",
   "execution_count": 3,
   "id": "41f8fe5f-2af5-4fe6-958e-62035625c951",
   "metadata": {},
   "outputs": [],
   "source": [
    "g = Graph()\n",
    "g.bind(\"LAB\", LAB)"
   ]
  },
  {
   "cell_type": "markdown",
   "id": "e31435aa-a6bb-4b87-a91b-2f58a7f40fde",
   "metadata": {},
   "source": [
    "## Definition"
   ]
  },
  {
   "cell_type": "markdown",
   "id": "58ae0f7c-62f2-42ca-a650-e9d537791a8e",
   "metadata": {},
   "source": [
    "### Class"
   ]
  },
  {
   "cell_type": "code",
   "execution_count": 4,
   "id": "62d5ccea-f48e-4823-b6ff-aa8ec4bb0986",
   "metadata": {},
   "outputs": [
    {
     "data": {
      "text/plain": [
       "<Graph identifier=N92b74463119b4b788be163fd3304498c (<class 'rdflib.graph.Graph'>)>"
      ]
     },
     "execution_count": 4,
     "metadata": {},
     "output_type": "execute_result"
    }
   ],
   "source": [
    "g.add((LAB.paper,RDF.type,RDFS.Class))\n",
    "g.add((LAB.person,RDF.type,RDFS.Class))\n",
    "g.add((LAB.venue,RDF.type,RDFS.Class))\n",
    "g.add((LAB.proceeding,RDF.type,RDFS.Class))\n",
    "g.add((LAB.keyword,RDF.type,RDFS.Class))\n",
    "g.add((LAB.journal,RDF.type,RDFS.Class))\n",
    "g.add((LAB.published_in,RDF.type,RDFS.Class))\n",
    "g.add((LAB.writes,RDF.type,RDFS.Class))\n",
    "g.add((LAB.review,RDF.type,RDFS.Class))"
   ]
  },
  {
   "cell_type": "markdown",
   "id": "d09d837b-7fd2-4e00-88f3-f66870f60b9d",
   "metadata": {},
   "source": [
    "### Subclasses"
   ]
  },
  {
   "cell_type": "code",
   "execution_count": 5,
   "id": "2e41c75d-0fa4-4542-8353-a429f55d952c",
   "metadata": {},
   "outputs": [
    {
     "data": {
      "text/plain": [
       "<Graph identifier=N92b74463119b4b788be163fd3304498c (<class 'rdflib.graph.Graph'>)>"
      ]
     },
     "execution_count": 5,
     "metadata": {},
     "output_type": "execute_result"
    }
   ],
   "source": [
    "g.add((LAB.author,RDFS.subClassOf,LAB.person))\n",
    "g.add((LAB.reviewer,RDFS.subClassOf,LAB.person))\n",
    "g.add((LAB.chair,RDFS.subClassOf,LAB.person))\n",
    "g.add((LAB.cited_paper,RDFS.subClassOf,LAB.paper))\n",
    "g.add((LAB.conference,RDFS.subClassOf,LAB.venue))\n",
    "g.add((LAB.workshop,RDFS.subClassOf,LAB.venue))"
   ]
  },
  {
   "cell_type": "markdown",
   "id": "40c30ff4-c1b4-4675-87d8-31e3c710d5e8",
   "metadata": {},
   "source": [
    "### Properties"
   ]
  },
  {
   "cell_type": "code",
   "execution_count": 6,
   "id": "16067dc7-5593-438c-ba4a-fdeb577c3b54",
   "metadata": {},
   "outputs": [
    {
     "data": {
      "text/plain": [
       "<Graph identifier=N92b74463119b4b788be163fd3304498c (<class 'rdflib.graph.Graph'>)>"
      ]
     },
     "execution_count": 6,
     "metadata": {},
     "output_type": "execute_result"
    }
   ],
   "source": [
    "# For the properties of paper:\n",
    "g.add((LAB.paper_id,RDF.type,RDF.Property))\n",
    "g.add((LAB.paper_id,RDFS.domain,LAB.paper))\n",
    "\n",
    "g.add((LAB.paper_title,RDF.type,RDF.Property))\n",
    "g.add((LAB.paper_title,RDFS.domain,LAB.paper))\n",
    "\n",
    "g.add((LAB.doi,RDF.type,RDF.Property))\n",
    "g.add((LAB.doi,RDFS.domain,LAB.paper))\n",
    "\n",
    "g.add((LAB.link,RDF.type,RDF.Property))\n",
    "g.add((LAB.link,RDFS.domain,LAB.paper))\n",
    "\n",
    "g.add((LAB.abstract,RDF.type,RDF.Property))\n",
    "g.add((LAB.abstract,RDFS.domain,LAB.paper))\n",
    "\n",
    "g.add((LAB.num_pages,RDF.type,RDF.Property))\n",
    "g.add((LAB.num_pages,RDFS.domain,LAB.paper))\n",
    "\n",
    "# For the properties of person:\n",
    "g.add((LAB.person_id,RDF.type,RDF.Property))\n",
    "g.add((LAB.person_id,RDFS.domain,LAB.person))\n",
    "\n",
    "g.add((LAB.person_name,RDF.type,RDF.Property))\n",
    "g.add((LAB.person_name,RDFS.domain,LAB.person))\n",
    "\n",
    "g.add((LAB.email,RDF.type,RDF.Property))\n",
    "g.add((LAB.email,RDFS.domain,LAB.person))\n",
    "\n",
    "g.add((LAB.department,RDF.type,RDF.Property))\n",
    "g.add((LAB.department,RDFS.domain,LAB.person))\n",
    "\n",
    "g.add((LAB.institution,RDF.type,RDF.Property))\n",
    "g.add((LAB.institution,RDFS.domain,LAB.person))\n",
    "\n",
    "# For the properties of journal:\n",
    "g.add((LAB.journal_id,RDF.type,RDF.Property))\n",
    "g.add((LAB.journal_id,RDFS.domain,LAB.journal))\n",
    "\n",
    "g.add((LAB.journal_name,RDF.type,RDF.Property))\n",
    "g.add((LAB.journal_name,RDFS.domain,LAB.journal))\n",
    "\n",
    "# For the properties of venue:\n",
    "g.add((LAB.venue_id,RDF.type,RDF.Property))\n",
    "g.add((LAB.venue_id,RDFS.domain,LAB.venue))\n",
    "\n",
    "g.add((LAB.venue_name,RDF.type,RDF.Property))\n",
    "g.add((LAB.venue_name,RDFS.domain,LAB.venue))\n",
    "\n",
    "g.add((LAB.venue_year,RDF.type,RDF.Property))\n",
    "g.add((LAB.venue_year,RDFS.domain,LAB.venue))\n",
    "\n",
    "g.add((LAB.venue_edition,RDF.type,RDF.Property))\n",
    "g.add((LAB.venue_edition,RDFS.domain,LAB.venue))\n",
    "\n",
    "# For the properties of proceeding:\n",
    "g.add((LAB.proceeding_id,RDF.type,RDF.Property))\n",
    "g.add((LAB.proceeding_id,RDFS.domain,LAB.proceeding))\n",
    "\n",
    "g.add((LAB.proceeding_name,RDF.type,RDF.Property))\n",
    "g.add((LAB.proceeding_name,RDFS.domain,LAB.proceeding))\n",
    "\n",
    "g.add((LAB.city,RDF.type,RDF.Property))\n",
    "g.add((LAB.city,RDFS.domain,LAB.proceeding))\n",
    "\n",
    "# For the properties of keyword:\n",
    "g.add((LAB.keyword_id,RDF.type,RDF.Property))\n",
    "g.add((LAB.keyword_id,RDFS.domain,LAB.keyword))\n",
    "\n",
    "g.add((LAB.keyword_name,RDF.type,RDF.Property))\n",
    "g.add((LAB.keyword_name,RDFS.domain,LAB.keyword))\n",
    "\n",
    "g.add((LAB.domain,RDF.type,RDF.Property))\n",
    "g.add((LAB.domain,RDFS.domain,LAB.keyword))\n",
    "\n",
    "# For the properties of writes:\n",
    "g.add((LAB.is_corresponding_author,RDF.type,RDF.Property))\n",
    "g.add((LAB.is_corresponding_author,RDFS.domain,LAB.writes))\n",
    "\n",
    "# For the properties of published_in:\n",
    "g.add((LAB.volume,RDF.type,RDF.Property))\n",
    "g.add((LAB.volume,RDFS.domain,LAB.published_in))\n",
    "\n",
    "g.add((LAB.publishing_year,RDF.type,RDF.Property))\n",
    "g.add((LAB.publishing_year,RDFS.domain,LAB.published_in))\n",
    "\n",
    "# For the properties of review:\n",
    "g.add((LAB.acceptanceProbability,RDF.type,RDF.Property))\n",
    "g.add((LAB.acceptanceProbability,RDFS.domain,LAB.review))"
   ]
  },
  {
   "cell_type": "markdown",
   "id": "e9630e94-2b58-4e20-a57c-fe8b1cd6e9dc",
   "metadata": {},
   "source": [
    "### Relationships"
   ]
  },
  {
   "cell_type": "code",
   "execution_count": 7,
   "id": "0183344c-a866-4a4f-a261-fcaa45bdcba8",
   "metadata": {},
   "outputs": [
    {
     "data": {
      "text/plain": [
       "<Graph identifier=N92b74463119b4b788be163fd3304498c (<class 'rdflib.graph.Graph'>)>"
      ]
     },
     "execution_count": 7,
     "metadata": {},
     "output_type": "execute_result"
    }
   ],
   "source": [
    "# The relationship between paper and venue:\n",
    "g.add((LAB.presented_in,RDF.type, RDF.Property))\n",
    "g.add((LAB.presented_in,RDFS.domain,LAB.paper))\n",
    "g.add((LAB.presented_in,RDFS.range,LAB.venue))\n",
    "g.add((LAB.paper,LAB.presented_in,LAB.venue))\n",
    "\n",
    "# The relationship between venue and proceeding:\n",
    "g.add((LAB.part_of,RDF.type, RDF.Property))\n",
    "g.add((LAB.part_of,RDFS.domain,LAB.venue))\n",
    "g.add((LAB.part_of,RDFS.range,LAB.proceeding))\n",
    "g.add((LAB.venue,LAB.part_of,LAB.proceeding))\n",
    "\n",
    "# The relationship between paper and keyword:\n",
    "g.add((LAB.has_keyword,RDF.type, RDF.Property))\n",
    "g.add((LAB.has_keyword,RDFS.domain,LAB.paper))\n",
    "g.add((LAB.has_keyword,RDFS.range,LAB.keyword))\n",
    "g.add((LAB.paper,LAB.has_keyword,LAB.keyword))\n",
    "\n",
    "# The relationship between paper and cited_paper:\n",
    "g.add((LAB.cited,RDF.type, RDF.Property))\n",
    "g.add((LAB.cited,RDFS.domain,LAB.paper))\n",
    "g.add((LAB.cited,RDFS.range,LAB.cited_paper))\n",
    "g.add((LAB.paper,LAB.cited,LAB.cited_paper))\n",
    "\n",
    "# The relationship between review and paper:\n",
    "g.add((LAB.reviews,RDF.type, RDF.Property))\n",
    "g.add((LAB.reviews,RDFS.domain,LAB.review))\n",
    "g.add((LAB.reviews,RDFS.range,LAB.paper))\n",
    "g.add((LAB.review,LAB.reviews,LAB.paper))\n",
    "\n",
    "# The relationship between review and reviewer:\n",
    "g.add((LAB.reviewed_by,RDF.type, RDF.Property))\n",
    "g.add((LAB.reviewed_by,RDFS.domain,LAB.review))\n",
    "g.add((LAB.reviewed_by,RDFS.range,LAB.reviewer))\n",
    "g.add((LAB.review,LAB.reviewed_by,LAB.reviewer))\n",
    "\n",
    "# The relationship between writes and author:\n",
    "g.add((LAB.written_by,RDF.type, RDF.Property))\n",
    "g.add((LAB.written_by,RDFS.domain,LAB.writes))\n",
    "g.add((LAB.written_by,RDFS.range,LAB.author))\n",
    "g.add((LAB.writes,LAB.written_by,LAB.author))\n",
    "\n",
    "# The relationship between writes and paper:\n",
    "g.add((LAB.has_written,RDF.type, RDF.Property))\n",
    "g.add((LAB.has_written,RDFS.domain,LAB.writes))\n",
    "g.add((LAB.has_written,RDFS.range,LAB.paper))\n",
    "g.add((LAB.writes,LAB.has_written,LAB.paper))\n",
    "\n",
    "# The relationship beteen published_in and journal:\n",
    "g.add((LAB.in_journal,RDF.type, RDF.Property))\n",
    "g.add((LAB.in_journal,RDFS.domain,LAB.published_in))\n",
    "g.add((LAB.in_journal,RDFS.range,LAB.journal))\n",
    "g.add((LAB.published_in,LAB.in_journal,LAB.journal))\n",
    "\n",
    "# The relationship between published_in and paper:\n",
    "g.add((LAB.published_paper,RDF.type, RDF.Property))\n",
    "g.add((LAB.published_paper,RDFS.domain,LAB.published_in))\n",
    "g.add((LAB.published_paper,RDFS.range,LAB.paper))\n",
    "g.add((LAB.published_in,LAB.published_paper,LAB.paper))\n",
    "\n",
    "# The relationship between venue and chair:\n",
    "g.add((LAB.is_chair,RDF.type, RDF.Property))\n",
    "g.add((LAB.is_chair,RDFS.domain,LAB.published_in))\n",
    "g.add((LAB.is_chair,RDFS.range,LAB.paper))\n",
    "g.add((LAB.venue,LAB.is_chair,LAB.chair))"
   ]
  },
  {
   "cell_type": "markdown",
   "id": "e3049f47-06f6-4528-b353-6c4230f6b36a",
   "metadata": {},
   "source": [
    "## Serialize"
   ]
  },
  {
   "cell_type": "markdown",
   "id": "35cb92d7-455a-48ec-9290-4d02a792b388",
   "metadata": {},
   "source": [
    "Finally, we can save the file."
   ]
  },
  {
   "cell_type": "code",
   "execution_count": 8,
   "id": "4eda2597-61df-409e-b493-61ee149d9717",
   "metadata": {},
   "outputs": [
    {
     "data": {
      "text/plain": [
       "<Graph identifier=N92b74463119b4b788be163fd3304498c (<class 'rdflib.graph.Graph'>)>"
      ]
     },
     "execution_count": 8,
     "metadata": {},
     "output_type": "execute_result"
    }
   ],
   "source": [
    "g.serialize('tbox.ttl',format='turtle')"
   ]
  },
  {
   "cell_type": "markdown",
   "id": "659f1ac8-5652-4d22-8068-1a478912f679",
   "metadata": {},
   "source": [
    "# B.2 ABOX definition / B.3 Create the final ontology"
   ]
  },
  {
   "cell_type": "markdown",
   "id": "4eb0d55d-8cb1-48af-a596-72f5c301f6da",
   "metadata": {},
   "source": [
    "First, let's load all the data:"
   ]
  },
  {
   "cell_type": "code",
   "execution_count": 9,
   "id": "d3dee881-8707-4fd0-a9df-e72aca72f87e",
   "metadata": {},
   "outputs": [],
   "source": [
    "import pandas as pd\n",
    "import random\n",
    "\n",
    "dtype_semantics = {'ID': str}\n",
    "dtype_relations = {'START_ID': str,'END_ID': str}\n",
    "\n",
    "reviews_df = pd.read_csv(\"data/author_review_papers.csv\", dtype=dtype_relations)\n",
    "writes_df = pd.read_csv('data/author_writes_papers.csv', dtype=dtype_relations)\n",
    "author_df = pd.read_csv('data/authors_semantics.csv', dtype=dtype_semantics)\n",
    "part_of_df = pd.read_csv('data/conference_part_of_proceeding.csv', dtype=dtype_relations)\n",
    "venue_df = pd.read_csv('data/conference_semantics.csv', dtype=dtype_semantics)\n",
    "journal_df = pd.read_csv('data/journal_semantics.csv', dtype=dtype_semantics)\n",
    "keywords_df = pd.read_csv('data/keywords_semantics.csv', dtype=dtype_semantics)\n",
    "cites_df = pd.read_csv('data/paper_cites_paper.csv', dtype=dtype_relations)\n",
    "has_df = pd.read_csv('data/paper_has_keywords.csv', dtype=dtype_semantics)\n",
    "presented_in_df = pd.read_csv('data/paper_presented_in_conference.csv', dtype=dtype_relations)\n",
    "published_in_df = pd.read_csv('data/paper_published_in_journal.csv', dtype=dtype_relations)\n",
    "paper_df = pd.read_csv('data/paper_semantics.csv', dtype=dtype_semantics)\n",
    "proceeding_df = pd.read_csv(\"data/proceeding_semantics.csv\", dtype=dtype_relations)"
   ]
  },
  {
   "cell_type": "markdown",
   "id": "94bdac11-e353-4029-aaed-04bee5456d80",
   "metadata": {},
   "source": [
    "Since there is some features that our data is missing let's add them now. It can be seen that the data only contains conferences, that is because all the events has been classified as conference. Let's divide them into either conference or workshop. In addition, we will add a conference chair."
   ]
  },
  {
   "cell_type": "code",
   "execution_count": 10,
   "id": "8c7398c9-ccf8-4b4a-abb6-d338e4fa15cf",
   "metadata": {
    "scrolled": true
   },
   "outputs": [],
   "source": [
    "# Function to assign a random chair ID based on row data\n",
    "def assign_chair_id(row):\n",
    "    return random.choice(author_df['ID'].tolist())  # Choose a random ID from author_df\n",
    "\n",
    "\n",
    "venue_df = (\n",
    "    venue_df\n",
    "    # If name contains the word Conference, we consider it a conference, if not, a workshop\n",
    "    .assign(is_conference=lambda x: x['name'].str.contains('Conference', case=False))\n",
    "    # The conference chair should be an author himself\n",
    "    .assign(chair_ID=lambda x: x.apply(assign_chair_id, axis=1))\n",
    ")"
   ]
  },
  {
   "cell_type": "markdown",
   "id": "ea120916-4cd7-4748-b3af-4bbe556c327c",
   "metadata": {},
   "source": [
    "## Loading"
   ]
  },
  {
   "cell_type": "markdown",
   "id": "ad72ca02-a516-4253-9a77-b6fe6e710f7b",
   "metadata": {},
   "source": [
    "### Paper"
   ]
  },
  {
   "cell_type": "code",
   "execution_count": 11,
   "id": "e5cf526f-3e9a-4474-9197-324f6247e3a9",
   "metadata": {},
   "outputs": [],
   "source": [
    "for index,row in paper_df.iterrows():\n",
    "    # Connect with the element\n",
    "    g.add((LAB.paper+\"/\"+str(row['ID']),RDF.type,LAB.paper))\n",
    "    # Load all the properties\n",
    "    g.add((LAB.paper+\"/\"+str(row['ID']),LAB.paper_id, Literal(row['ID'], datatype=XSD.string)))\n",
    "    g.add((LAB.paper+\"/\"+str(row['ID']),LAB.paper_title, Literal(row['title'], datatype=XSD.string)))\n",
    "    g.add((LAB.paper+\"/\"+str(row['ID']),LAB.abstract, Literal(row['abstract'], datatype=XSD.string)))\n",
    "    g.add((LAB.paper+\"/\"+str(row['ID']),LAB.num_pages, Literal(row['pages'], datatype=XSD.string)))\n",
    "    g.add((LAB.paper+\"/\"+str(row['ID']),LAB.doi, Literal(row['doi'], datatype=XSD.string)))\n",
    "    g.add((LAB.paper+\"/\"+str(row['ID']),LAB.link, Literal(row['link'], datatype=XSD.string)))"
   ]
  },
  {
   "cell_type": "markdown",
   "id": "4001a6de-5833-4402-9eee-471ae73f409b",
   "metadata": {},
   "source": [
    "### Author"
   ]
  },
  {
   "cell_type": "code",
   "execution_count": 12,
   "id": "15cc4cb5-5bc0-49bf-874a-ba5874117cb6",
   "metadata": {},
   "outputs": [],
   "source": [
    "for index,row in author_df.iterrows():\n",
    "    # Connect with the element\n",
    "    g.add((LAB.person+\"/\"+str(row['ID']),RDF.type,LAB.author))\n",
    "    # Load all the properties\n",
    "    g.add((LAB.person+\"/\"+str(row['ID']),LAB.person_id, Literal(row['ID'], datatype=XSD.string)))\n",
    "    g.add((LAB.person+\"/\"+str(row['ID']),LAB.person_name, Literal(row['name'], datatype=XSD.string)))\n",
    "    g.add((LAB.person+\"/\"+str(row['ID']),LAB.email, Literal(row['email'], datatype=XSD.string)))\n",
    "    g.add((LAB.person+\"/\"+str(row['ID']),LAB.department, Literal(row['department'], datatype=XSD.string)))\n",
    "    g.add((LAB.person+\"/\"+str(row['ID']),LAB.institution, Literal(row['institution'], datatype=XSD.string)))"
   ]
  },
  {
   "cell_type": "markdown",
   "id": "2aaff0d3-10d8-444d-a20a-159a21811135",
   "metadata": {},
   "source": [
    "### Conference/workshop"
   ]
  },
  {
   "cell_type": "code",
   "execution_count": 13,
   "id": "a169ef31-7aa6-41e4-9a7d-db7b3f7ee30b",
   "metadata": {},
   "outputs": [],
   "source": [
    "for index,row in venue_df.iterrows():\n",
    "    if row['is_conference'] == True:\n",
    "        # Connect with the element\n",
    "        g.add((LAB.venue+\"/\"+str(row['ID']),RDF.type,LAB.conference))\n",
    "        # Load all the properties\n",
    "        g.add((LAB.venue+\"/\"+str(row['ID']),LAB.venue_id, Literal(row['ID'], datatype=XSD.string)))\n",
    "        g.add((LAB.venue+\"/\"+str(row['ID']),LAB.venue_name, Literal(row['name'], datatype=XSD.string)))\n",
    "        g.add((LAB.venue+\"/\"+str(row['ID']),LAB.venue_year, Literal(row['year'], datatype=XSD.string)))\n",
    "        g.add((LAB.venue+\"/\"+str(row['ID']),LAB.venue_edition, Literal(row['edition'], datatype=XSD.string)))\n",
    "    else:\n",
    "        # Connect with the element\n",
    "        g.add((LAB.venue+\"/\"+str(row['ID']),RDF.type,LAB.workshop))\n",
    "        # Load all the properties\n",
    "        g.add((LAB.venue+\"/\"+str(row['ID']),LAB.venue_id, Literal(row['ID'], datatype=XSD.string)))\n",
    "        g.add((LAB.venue+\"/\"+str(row['ID']),LAB.venue_name, Literal(row['name'], datatype=XSD.string)))\n",
    "        g.add((LAB.venue+\"/\"+str(row['ID']),LAB.venue_year, Literal(row['year'], datatype=XSD.string)))\n",
    "        g.add((LAB.venue+\"/\"+str(row['ID']),LAB.venue_edition, Literal(row['edition'], datatype=XSD.string)))"
   ]
  },
  {
   "cell_type": "markdown",
   "id": "a01f2379-95e5-45a9-b87e-ce02b054792a",
   "metadata": {},
   "source": [
    "### Journal"
   ]
  },
  {
   "cell_type": "code",
   "execution_count": 14,
   "id": "5b83c362-aab5-43ca-865b-bdce0040bdd6",
   "metadata": {},
   "outputs": [],
   "source": [
    "for index,row in journal_df.iterrows():\n",
    "    # Connect with the element\n",
    "    g.add((LAB.journal+\"/\"+str(row['ID']),RDF.type,LAB.journal))\n",
    "    # Load all the properties\n",
    "    g.add((LAB.journal+\"/\"+str(row['ID']),LAB.journal_id, Literal(row['ID'], datatype=XSD.string)))\n",
    "    g.add((LAB.journal+\"/\"+str(row['ID']),LAB.journal_name, Literal(row['name'], datatype=XSD.string)))"
   ]
  },
  {
   "cell_type": "markdown",
   "id": "93163bc5-8526-460d-a34c-e8d9e28acd74",
   "metadata": {},
   "source": [
    "### Keyword"
   ]
  },
  {
   "cell_type": "code",
   "execution_count": 15,
   "id": "3a201ee8-1fa8-43d9-9362-bbcc7ff9912c",
   "metadata": {},
   "outputs": [],
   "source": [
    "for index,row in keywords_df.iterrows():\n",
    "    # Connect with the element\n",
    "    g.add((LAB.keyword+\"/\"+str(row['ID']),RDF.type,LAB.keyword))\n",
    "    # Load all the properties\n",
    "    g.add((LAB.keyword+\"/\"+str(row['ID']),LAB.keyword_id, Literal(row['ID'], datatype=XSD.string)))\n",
    "    g.add((LAB.keyword+\"/\"+str(row['ID']),LAB.keyword_name, Literal(row['name'], datatype=XSD.string)))\n",
    "    g.add((LAB.keyword+\"/\"+str(row['ID']),LAB.domain, Literal(row['domain'], datatype=XSD.string)))"
   ]
  },
  {
   "cell_type": "markdown",
   "id": "646112a5-7ed2-464b-aa6d-cbcaeea10830",
   "metadata": {},
   "source": [
    "### Proceeding"
   ]
  },
  {
   "cell_type": "code",
   "execution_count": 16,
   "id": "f7dd4929-023e-49ef-a740-b889e61feac0",
   "metadata": {},
   "outputs": [],
   "source": [
    "for index,row in proceeding_df.iterrows():\n",
    "    # Connect with the element\n",
    "    g.add((LAB.proceeding+\"/\"+str(row['ID']),RDF.type,LAB.proceeding))\n",
    "    # Load all the properties\n",
    "    g.add((LAB.proceeding+\"/\"+str(row['ID']),LAB.proceeding_id, Literal(row['ID'], datatype=XSD.string)))\n",
    "    g.add((LAB.proceeding+\"/\"+str(row['ID']),LAB.proceeding_name, Literal(row['name'], datatype=XSD.string)))\n",
    "    g.add((LAB.proceeding+\"/\"+str(row['ID']),LAB.city, Literal(row['city'], datatype=XSD.string)))\n"
   ]
  },
  {
   "cell_type": "markdown",
   "id": "0ceb9212-724f-4527-92b2-ec120cdf282b",
   "metadata": {},
   "source": [
    "### Writes"
   ]
  },
  {
   "cell_type": "code",
   "execution_count": 17,
   "id": "118b0f14-d6f8-4e5b-94de-f52b8bfa0c55",
   "metadata": {},
   "outputs": [],
   "source": [
    "for index,row in writes_df.iterrows():\n",
    "    # Connect with the element\n",
    "    g.add((LAB.writes+\"/\"+(str(row['START_ID'])+str(row['END_ID'])),RDF.type,LAB.writes))\n",
    "    # Load all the properties\n",
    "    g.add((LAB.writes+\"/\"+(str(row['START_ID'])+str(row['END_ID'])),LAB.is_corresponding_author, Literal(row['corresponding_author'], datatype=XSD.string)))"
   ]
  },
  {
   "cell_type": "markdown",
   "id": "3e391eea-ed3c-4281-a903-b12713f63898",
   "metadata": {},
   "source": [
    "### Published_in"
   ]
  },
  {
   "cell_type": "code",
   "execution_count": 18,
   "id": "abef2f63-1f31-45b2-bab5-58590c9c2cf6",
   "metadata": {},
   "outputs": [],
   "source": [
    "for index,row in published_in_df.iterrows():\n",
    "    # Connect with the element\n",
    "    g.add((LAB.published_in+\"/\"+(str(row['START_ID'])+str(row['END_ID'])),RDF.type,LAB.published_in))\n",
    "    # Load all the properties\n",
    "    g.add((LAB.published_in+\"/\"+(str(row['START_ID'])+str(row['END_ID'])),LAB.volume, Literal(row['volume'], datatype=XSD.string)))\n",
    "    g.add((LAB.published_in+\"/\"+(str(row['START_ID'])+str(row['END_ID'])),LAB.publishing_year, Literal(row['year'], datatype=XSD.string)))"
   ]
  },
  {
   "cell_type": "markdown",
   "id": "82a8e632-2671-43af-a5a8-6f270afea595",
   "metadata": {},
   "source": [
    "### Review"
   ]
  },
  {
   "cell_type": "code",
   "execution_count": 19,
   "id": "dd395a1a-67ac-4454-962e-e0f3878a9dc7",
   "metadata": {},
   "outputs": [],
   "source": [
    "for index,row in reviews_df.iterrows():\n",
    "    # Connect with the element, notice we are using the ID of author for identifying review\n",
    "    g.add((LAB.review+\"/\"+(str(row['START_ID'])+str(row['END_ID'])),RDF.type,LAB.review))\n",
    "    # Load all the properties\n",
    "    g.add((LAB.review+\"/\"+(str(row['START_ID'])+str(row['END_ID'])),LAB.comment, Literal(row['comment'], datatype=XSD.string)))\n",
    "    g.add((LAB.review+\"/\"+(str(row['START_ID'])+str(row['END_ID'])),LAB.acceptanceProbability, Literal(row['acceptanceProbability'], datatype=XSD.string)))"
   ]
  },
  {
   "cell_type": "markdown",
   "id": "60a9c083-c8da-4be9-980c-dc210253db95",
   "metadata": {},
   "source": [
    "### Cited_paper"
   ]
  },
  {
   "cell_type": "code",
   "execution_count": 20,
   "id": "9ecadfac-c831-4596-934b-b69e1e8de50a",
   "metadata": {},
   "outputs": [],
   "source": [
    "for index,row in cites_df.iterrows():\n",
    "    # Connect with the element, notice we are using the ID of paper for identifying cited_paper\n",
    "    g.add((LAB.paper+\"/\"+str(row['END_ID']),RDF.type,LAB.cited_paper))\n",
    "    # Load all the properties\n",
    "    g.add((LAB.paper+\"/\"+str(row['END_ID']),LAB.paper_id, Literal(row['END_ID'], datatype=XSD.string)))\n",
    "    matching_row = paper_df.loc[paper_df['ID'] == row['END_ID'], ['title']]\n",
    "    value = matching_row.iloc[0, 0] if not matching_row.empty else None\n",
    "    g.add((LAB.paper+\"/\"+str(row['END_ID']),LAB.paper_title, Literal(value, datatype=XSD.string)))\n",
    "    matching_row = paper_df.loc[paper_df['ID'] == row['END_ID'], ['abstract']]\n",
    "    value = matching_row.iloc[0, 0] if not matching_row.empty else None\n",
    "    g.add((LAB.paper+\"/\"+str(row['END_ID']),LAB.abstract, Literal(value, datatype=XSD.string)))\n",
    "    matching_row = paper_df.loc[paper_df['ID'] == row['END_ID'], ['pages']]\n",
    "    value = matching_row.iloc[0, 0] if not matching_row.empty else None\n",
    "    g.add((LAB.paper+\"/\"+str(row['END_ID']),LAB.num_pages, Literal(value, datatype=XSD.string)))\n",
    "    matching_row = paper_df.loc[paper_df['ID'] == row['END_ID'], ['doi']]\n",
    "    value = matching_row.iloc[0, 0] if not matching_row.empty else None\n",
    "    g.add((LAB.paper+\"/\"+str(row['END_ID']),LAB.doi, Literal(value, datatype=XSD.string)))\n",
    "    matching_row = paper_df.loc[paper_df['ID'] == row['END_ID'], ['link']]\n",
    "    value = matching_row.iloc[0, 0] if not matching_row.empty else None\n",
    "    g.add((LAB.paper+\"/\"+str(row['END_ID']),LAB.link, Literal(value, datatype=XSD.string)))"
   ]
  },
  {
   "cell_type": "markdown",
   "id": "30aa64d7-197a-49be-aaa9-e5891fd52ebd",
   "metadata": {},
   "source": [
    "### Reviewer"
   ]
  },
  {
   "cell_type": "code",
   "execution_count": 21,
   "id": "b239ac6d-0ec8-4ad8-b21b-fa64aacf4c7c",
   "metadata": {},
   "outputs": [],
   "source": [
    "for index,row in reviews_df.iterrows():\n",
    "    # Connect with the element, notice we are using the ID of author for identifying reviewer\n",
    "    g.add((LAB.person+\"/\"+str(row['START_ID']),RDF.type,LAB.reviewer))\n",
    "    # Load all the properties\n",
    "    g.add((LAB.person+\"/\"+str(row['START_ID']),LAB.person_id, Literal(row['START_ID'], datatype=XSD.string)))\n",
    "    matching_row = author_df.loc[author_df['ID'] == row['START_ID'], ['name']]\n",
    "    value = matching_row.iloc[0, 0] if not matching_row.empty else None\n",
    "    g.add((LAB.person+\"/\"+str(row['START_ID']),LAB.person_name, Literal(value, datatype=XSD.string)))\n",
    "    matching_row = author_df.loc[author_df['ID'] == row['START_ID'], ['email']]\n",
    "    value = matching_row.iloc[0, 0] if not matching_row.empty else None\n",
    "    g.add((LAB.person+\"/\"+str(row['START_ID']),LAB.email, Literal(value, datatype=XSD.string)))\n",
    "    matching_row = author_df.loc[author_df['ID'] == row['START_ID'], ['department']]\n",
    "    value = matching_row.iloc[0, 0] if not matching_row.empty else None\n",
    "    g.add((LAB.person+\"/\"+str(row['START_ID']),LAB.department, Literal(value, datatype=XSD.string)))\n",
    "    matching_row = author_df.loc[author_df['ID'] == row['START_ID'], ['institution']]\n",
    "    value = matching_row.iloc[0, 0] if not matching_row.empty else None\n",
    "    g.add((LAB.person+\"/\"+str(row['START_ID']),LAB.institution, Literal(value, datatype=XSD.string)))"
   ]
  },
  {
   "cell_type": "markdown",
   "id": "7fdae927-2a35-4c3d-a9c6-98ca26c3e77c",
   "metadata": {},
   "source": [
    "### Chair"
   ]
  },
  {
   "cell_type": "code",
   "execution_count": 22,
   "id": "77ad2a11-433e-4c4c-90fb-e04a8d67b3ea",
   "metadata": {},
   "outputs": [],
   "source": [
    "for index,row in venue_df.iterrows():\n",
    "    # Connect with the element\n",
    "    g.add((LAB.person+\"/\"+str(row['chair_ID']),RDF.type,LAB.chair))\n",
    "    # Load all the properties\n",
    "    g.add((LAB.person+\"/\"+str(row['chair_ID']),LAB.person_id, Literal(row['chair_ID'], datatype=XSD.string)))\n",
    "    matching_row = author_df.loc[author_df['ID'] == row['chair_ID'], ['name']]\n",
    "    value = matching_row.iloc[0, 0] if not matching_row.empty else None\n",
    "    g.add((LAB.person+\"/\"+str(row['chair_ID']),LAB.person_name, Literal(value, datatype=XSD.string)))\n",
    "    matching_row = author_df.loc[author_df['ID'] == row['chair_ID'], ['email']]\n",
    "    value = matching_row.iloc[0, 0] if not matching_row.empty else None\n",
    "    g.add((LAB.person+\"/\"+str(row['chair_ID']),LAB.email, Literal(value, datatype=XSD.string)))\n",
    "    matching_row = author_df.loc[author_df['ID'] == row['chair_ID'], ['department']]\n",
    "    value = matching_row.iloc[0, 0] if not matching_row.empty else None\n",
    "    g.add((LAB.person+\"/\"+str(row['chair_ID']),LAB.department, Literal(value, datatype=XSD.string)))\n",
    "    matching_row = author_df.loc[author_df['ID'] == row['chair_ID'], ['institution']]\n",
    "    value = matching_row.iloc[0, 0] if not matching_row.empty else None\n",
    "    g.add((LAB.person+\"/\"+str(row['chair_ID']),LAB.institution, Literal(value, datatype=XSD.string)))"
   ]
  },
  {
   "cell_type": "markdown",
   "id": "578d98e2-efa7-484b-b1dd-50743cb194ab",
   "metadata": {},
   "source": [
    "### Written_by"
   ]
  },
  {
   "cell_type": "code",
   "execution_count": 23,
   "id": "27fe7e40-0b95-4640-8668-9a14a0eb8f16",
   "metadata": {},
   "outputs": [],
   "source": [
    "# This is the relation between writes and author\n",
    "for index,row in writes_df.iterrows():\n",
    "    g.add((LAB.writes+\"/\"+(str(row['START_ID'])+str(row['END_ID'])),LAB.written_by,LAB.person+\"/\"+str(row['START_ID'])))"
   ]
  },
  {
   "cell_type": "markdown",
   "id": "17e5b8f8-5cf1-465a-9c33-0b801021e4a3",
   "metadata": {},
   "source": [
    "### Has_written"
   ]
  },
  {
   "cell_type": "code",
   "execution_count": 24,
   "id": "980cafd6-c0d9-476e-b44a-589b1838b519",
   "metadata": {},
   "outputs": [],
   "source": [
    "# This is the relation between writes and paper\n",
    "for index,row in writes_df.iterrows():\n",
    "    g.add((LAB.writes+\"/\"+(str(row['START_ID'])+str(row['END_ID'])),LAB.has_written,LAB.paper+\"/\"+str(row['END_ID'])))"
   ]
  },
  {
   "cell_type": "markdown",
   "id": "4f240725-b4cc-400a-899e-a466438e3fde",
   "metadata": {},
   "source": [
    "### Has_keyword"
   ]
  },
  {
   "cell_type": "code",
   "execution_count": 25,
   "id": "9b177fec-42c6-4f92-b832-3273f5598363",
   "metadata": {},
   "outputs": [],
   "source": [
    "# This is the relation between paper and keyword\n",
    "for index,row in has_df.iterrows():\n",
    "    g.add((LAB.paper+\"/\"+str(row['START_ID']),LAB.has_keyword,LAB.keyword+\"/\"+str(row['END_ID'])))"
   ]
  },
  {
   "cell_type": "markdown",
   "id": "268ecbbb-06c4-41ed-b3f9-7c80b4a4db08",
   "metadata": {},
   "source": [
    "### Presented_in"
   ]
  },
  {
   "cell_type": "code",
   "execution_count": 26,
   "id": "e69db6d8-74cc-4873-ac6c-117e2c296f23",
   "metadata": {},
   "outputs": [],
   "source": [
    "# This is the relation between paper and venue\n",
    "for index, row in presented_in_df.iterrows():\n",
    "    end_id = row['END_ID']\n",
    "    venue_row = venue_df[venue_df['ID'] == end_id]  # Filter venue_df for matching ID\n",
    "    if not venue_row.empty:  # Check if venue_row is not empty (ID exists in venue_df)\n",
    "        is_conference = venue_row['is_conference'].iloc[0]  # Get the 'is_conference' value\n",
    "        if is_conference:\n",
    "            g.add((LAB.paper+\"/\"+str(row['START_ID']), LAB.presented_in, LAB.venue+\"/\"+str(end_id)))\n",
    "        else:\n",
    "            g.add((LAB.paper+\"/\"+str(row['START_ID']), LAB.presented_in, LAB.venue+\"/\"+str(end_id)))\n",
    "    else:\n",
    "        # Handle case where ID does not exist in venue_df (if needed)\n",
    "        pass  # Placeholder for additional logic if required\n"
   ]
  },
  {
   "cell_type": "markdown",
   "id": "f2896350-c5ef-4435-bdcc-fca6e4f29407",
   "metadata": {},
   "source": [
    "### Part_of"
   ]
  },
  {
   "cell_type": "code",
   "execution_count": 27,
   "id": "b6ad97d1-d205-4954-9536-feb826b40985",
   "metadata": {},
   "outputs": [],
   "source": [
    "for index, row in presented_in_df.iterrows():\n",
    "    start_id = row['START_ID']\n",
    "    end_id = row['END_ID']\n",
    "    venue_row = venue_df[venue_df['ID'] == start_id]  # Filter venue_df for matching ID\n",
    "    if not venue_row.empty:  # Check if venue_row is not empty (ID exists in venue_df)\n",
    "        is_conference = venue_row['is_conference'].iloc[0]  # Get the 'is_conference' value\n",
    "        if is_conference:\n",
    "            g.add((LAB.venue+\"/\"+str(start_id), LAB.part_of, LAB.proceeding+\"/\"+str(end_id)))\n",
    "        else:\n",
    "            g.add((LAB.venue+\"/\"+str(start_id), LAB.part_of, LAB.proceeding+\"/\"+str(end_id)))\n",
    "    else:\n",
    "        # Handle case where ID does not exist in venue_df (if needed)\n",
    "        pass  # Placeholder for additional logic if required\n"
   ]
  },
  {
   "cell_type": "markdown",
   "id": "b91c5caa-81e4-4634-bf83-c7d5a39d4c68",
   "metadata": {},
   "source": [
    "### Is_chair"
   ]
  },
  {
   "cell_type": "code",
   "execution_count": 28,
   "id": "c228ec9b-f18a-4f5e-9447-e9779dd475d2",
   "metadata": {},
   "outputs": [],
   "source": [
    "for index, row in venue_df.iterrows():\n",
    "    row_venue_id = row['ID']\n",
    "    row_chair_id = row['chair_ID']\n",
    "    venue_row = venue_df[venue_df['ID'] == row_venue_id]  # Filter venue_df for matching ID\n",
    "    if not venue_row.empty:  # Check if venue_row is not empty (ID exists in venue_df)\n",
    "        is_conference = venue_row['is_conference'].iloc[0]  # Get the 'is_conference' value\n",
    "        if is_conference:\n",
    "            g.add((LAB.venue+\"/\"+str(row_venue_id), LAB.is_chair, LAB.person+\"/\"+str(row_chair_id)))\n",
    "        else:\n",
    "            g.add((LAB.venue+\"/\"+str(row_venue_id), LAB.is_chair, LAB.person+\"/\"+str(row_chair_id)))\n",
    "    else:\n",
    "        # Handle case where ID does not exist in venue_df (if needed)\n",
    "        pass  # Placeholder for additional logic if required"
   ]
  },
  {
   "cell_type": "markdown",
   "id": "04ac8d01-f19f-447a-9627-e4e0a441331b",
   "metadata": {},
   "source": [
    "### Published_paper"
   ]
  },
  {
   "cell_type": "code",
   "execution_count": 29,
   "id": "db4ac522-4a60-4251-a029-62bcb513a86b",
   "metadata": {},
   "outputs": [],
   "source": [
    "# This is the relation between published_in and paper\n",
    "for index,row in published_in_df.iterrows():\n",
    "    g.add((LAB.published_in+\"/\"+(str(row['START_ID'])+str(row['END_ID'])),LAB.published_paper,LAB.paper+\"/\"+str(row['START_ID'])))"
   ]
  },
  {
   "cell_type": "markdown",
   "id": "6412bd74-9d67-454f-989c-387d0ee4a914",
   "metadata": {},
   "source": [
    "### In_journal"
   ]
  },
  {
   "cell_type": "code",
   "execution_count": 30,
   "id": "ecd04e66-60ff-425f-9cf2-bf749b59f1d9",
   "metadata": {},
   "outputs": [],
   "source": [
    "# This is the relation between published_in and journal\n",
    "for index,row in published_in_df.iterrows():\n",
    "    g.add((LAB.published_in+\"/\"+(str(row['START_ID'])+str(row['END_ID'])),LAB.in_journal,LAB.journal+\"/\"+str(row['END_ID'])))"
   ]
  },
  {
   "cell_type": "markdown",
   "id": "086bdc75-641e-4508-8620-c932f2f9b4de",
   "metadata": {},
   "source": [
    "### Cited"
   ]
  },
  {
   "cell_type": "code",
   "execution_count": 31,
   "id": "a4d3355c-7e30-450b-b269-70b157936a2b",
   "metadata": {},
   "outputs": [],
   "source": [
    "# This is the relation between paper and cited_paper\n",
    "for index,row in cites_df.iterrows():\n",
    "    g.add((LAB.paper+\"/\"+str(row['START_ID']),LAB.cited,LAB.paper+\"/\"+str(row['END_ID'])))"
   ]
  },
  {
   "cell_type": "markdown",
   "id": "a954ab64-e506-43b0-9429-74f87767cc5e",
   "metadata": {},
   "source": [
    "### Reviews"
   ]
  },
  {
   "cell_type": "code",
   "execution_count": 32,
   "id": "2bb41d0b-b3b7-4c25-a706-57c86ed9acdd",
   "metadata": {},
   "outputs": [],
   "source": [
    "# This is the relation between review and paper\n",
    "for index,row in reviews_df.iterrows():\n",
    "    g.add((LAB.review+\"/\"+(str(row['START_ID'])+str(row['END_ID'])),LAB.reviews,LAB.paper+\"/\"+str(row['END_ID'])))"
   ]
  },
  {
   "cell_type": "markdown",
   "id": "142b64b6-7558-4efd-b595-62a97e8dfc36",
   "metadata": {},
   "source": [
    "### Reviewed_by"
   ]
  },
  {
   "cell_type": "code",
   "execution_count": 33,
   "id": "ef41ed29-7db1-4f37-82a0-026f2cc58ed8",
   "metadata": {},
   "outputs": [],
   "source": [
    "# This is the relation between review and reviewer\n",
    "for index,row in reviews_df.iterrows():\n",
    "    g.add((LAB.review+\"/\"+(str(row['START_ID'])+str(row['END_ID'])),LAB.reviewed_by,LAB.person+\"/\"+str(row['START_ID'])))"
   ]
  },
  {
   "cell_type": "markdown",
   "id": "8bd93b10-ada0-4b9d-b302-54320fa92c13",
   "metadata": {},
   "source": [
    "## Serialize\n",
    "Finally we can save the final graph"
   ]
  },
  {
   "cell_type": "code",
   "execution_count": 34,
   "id": "bdc82e9a-1dcb-43fc-81f9-5afcb71b0c71",
   "metadata": {},
   "outputs": [
    {
     "data": {
      "text/plain": [
       "<Graph identifier=N92b74463119b4b788be163fd3304498c (<class 'rdflib.graph.Graph'>)>"
      ]
     },
     "execution_count": 34,
     "metadata": {},
     "output_type": "execute_result"
    }
   ],
   "source": [
    "g.serialize('abox.ttl',format='turtle')"
   ]
  },
  {
   "cell_type": "markdown",
   "id": "68991719-9e31-4e28-8bd5-f978d9f2a607",
   "metadata": {},
   "source": [
    "# B.4 Querying the ontology\n",
    "Once the ontology is fully created, we can query in it. The queries asked are the following:"
   ]
  },
  {
   "cell_type": "raw",
   "id": "9371bc93-ec03-43a1-a1f2-cbd137232f4f",
   "metadata": {
    "vscode": {
     "languageId": "raw"
    }
   },
   "source": [
    "1. Find all Authors\n",
    "\n",
    "PREFIX LAB: <http://www.example.edu/>\n",
    "PREFIX rdfs: <http://www.w3.org/2000/01/rdf-schema#>\n",
    "PREFIX rdf: <http://www.w3.org/1999/02/22-rdf-syntax-ns#>\n",
    "\n",
    "SELECT DISTINCT ?id ?name ?email ?department ?institution WHERE {\n",
    "    ?w LAB:written_by ?a .\n",
    "    ?w LAB:has_written ?p .\n",
    "    ?a LAB:person_name ?name .\n",
    "    ?a rdf:type LAB:author .\n",
    "    ?a LAB:person_id ?id .\n",
    "    ?a LAB:email ?email .\n",
    "    ?a LAB:department ?department .\n",
    "    ?a LAB:institution ?institution\n",
    "}\n",
    "\n",
    "2. Find all properties whose domain is Author.\n",
    "\n",
    "PREFIX ns1: <http://www.example.edu/>\n",
    "PREFIX LAB: <http://www.example.edu/>\n",
    "PREFIX rdfs: <http://www.w3.org/2000/01/rdf-schema#>\n",
    "PREFIX rdf: <http://www.w3.org/1999/02/22-rdf-syntax-ns#>\n",
    "\n",
    "SELECT DISTINCT ?property WHERE {\n",
    "    {\n",
    "    \t?property rdfs:domain LAB:author .\n",
    "  \t}\n",
    "  \tUNION\n",
    "  \t{\n",
    "    \tLAB:author rdfs:subClassOf* ?superclass .  \n",
    "    \t?property rdfs:domain ?superclass .\n",
    "  \t}\n",
    "}\n",
    "\n",
    "3. Find all properties whose domain is either Conference or Journal.\n",
    "\n",
    "PREFIX ns1: <http://www.example.edu/>\n",
    "PREFIX LAB: <http://www.example.edu/>\n",
    "PREFIX rdfs: <http://www.w3.org/2000/01/rdf-schema#>\n",
    "PREFIX rdf: <http://www.w3.org/1999/02/22-rdf-syntax-ns#>\n",
    "\n",
    "SELECT DISTINCT ?property WHERE {\n",
    "    {\n",
    "    \t?property rdfs:domain LAB:conference .\n",
    "  \t}\n",
    "  \tUNION\n",
    "  \t{\n",
    "    \tLAB:conference rdfs:subClassOf* ?superclass .\n",
    "    \t?property rdfs:domain ?superclass .\n",
    "  \t}\n",
    "  \tUNION\n",
    "  \t{\n",
    "    \t?property rdfs:domain LAB:journal .\n",
    "  \t}\n",
    "}\n",
    "\n",
    "4. Find all the papers written by a given author that where published in database conferences.\n",
    "\n",
    "PREFIX LAB: <http://www.example.edu/>\n",
    "PREFIX rdfs: <http://www.w3.org/2000/01/rdf-schema#>\n",
    "PREFIX rdf: <http://www.w3.org/1999/02/22-rdf-syntax-ns#>\n",
    "\n",
    "SELECT DISTINCT ?p ?title WHERE {\n",
    "    ?p LAB:has_keyword ?k .\n",
    "    ?k LAB:keyword_name \"Big Data\" .\n",
    "    ?w LAB:has_written ?p .\n",
    "    ?w LAB:written_by ?a .\n",
    "    ?a LAB:person_name \"A. Bateman\" .\n",
    "    ?p LAB:paper_title ?title .\n",
    "} \n",
    "\n",
    "For this last query we filtered the papers on the keyword \"Big Data\" since our dataset do not have papers with the keyword \"Database\". In addition, \n",
    "we chose an arbitrary author, \"A. Bateman\"."
   ]
  },
  {
   "cell_type": "markdown",
   "id": "176f4b59",
   "metadata": {},
   "source": [
    "# Notes for the repport\n",
    "In this parragraph, I will add some notes regarding the model and the reasons behind its structure. The schema can be found in the file schema.png of the github. Let's start talking about the preprocess:\n",
    "1. I added a new column in venue_df that is type bool and determines if the row is a conference or not. In the statement, it is mentioned that we have to have a conference/workshop and the different between this two is that normally a conference takes longer than a workshop, so I just assigned conference to anything that contains the word conference in its name and workshop to anything else.\n",
    "2. I added a new column in venue_df that picks a random id from author_df. I did this because the statement mentions that in every conference there is a chair, that I assume must also be an author, that assigns normally 3 reviewers to every paper presented in the conference/workshop.\n",
    "\n",
    "We should also explain the reasons behind the tbox defined:\n",
    "1. There is a class person such that author, reviewer and chair are subclasses of person, this is done for obvious reasons. They must all share the same properties. I have the question here if I should not bother with the person class and define a class author such that chair and reviewer are subclasses from author.\n",
    "2. The same way as the previous point, we defined a class paper and a subclass cited_paper. Notice that in the previous casse all the nodes present in our schema where subclasses of something we called person, but this time the class is also present in the model. I did this because I think it makes sense since all the cited_papers have to appear in the paper node as well.\n",
    "3. Conference and workshop have been added as subclasses of the class venue, since the interesting thing here is probably that we defined relations between paper and venue and between venue and proceeding, and not directly to conference and workshop. This is done because they share all the relations that they have with other nodes so there is no point in defining extra relations that are subclasses of one relation.\n",
    "4. Since the data we are using from the property graph project had attributes assigned to some relationship, we created classes for those relationships that had attributes, i.e. in our model presented_in, writes, review are classes with their own properties.\n",
    "\n",
    "Finally, I want to add to the discussion the thing that concerns me the most with this model. This model had a problem, that is that if we wanted for example to see the papers written by the reviewer of certain paper, this was impossible. This is because if we define that a relation is given by person and paper, person and only person can use this relation, and not any of its subclasses. This is something that I honestly don't understand why happens, RDFS should allow subclasses to use the relations of its superclass. The way I solved this is assigning to every element the UriRef of its superclass, that is, that the identifier of an author is gonna be http://www.example.edu/person/23487612 for an author with id 23487612. This way, although this element belongs to the class author, it is also an element from the class person and I can use both relationships. However, one problem arises from this solution, and you can see that problem in the queries of the ontology. The ideal would be that if I want to find all properties whose domain is author. I could just do ?property rdfs:domain LAB:author, but this will not give me all the properties since I will be missing the ones I am taking from the superclass person."
   ]
  }
 ],
 "metadata": {
  "kernelspec": {
   "display_name": "Python 3 (ipykernel)",
   "language": "python",
   "name": "python3"
  },
  "language_info": {
   "codemirror_mode": {
    "name": "ipython",
    "version": 3
   },
   "file_extension": ".py",
   "mimetype": "text/x-python",
   "name": "python",
   "nbconvert_exporter": "python",
   "pygments_lexer": "ipython3",
   "version": "3.10.12"
  }
 },
 "nbformat": 4,
 "nbformat_minor": 5
}
