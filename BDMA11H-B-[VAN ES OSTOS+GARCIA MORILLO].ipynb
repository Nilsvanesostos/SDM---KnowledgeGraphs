{
  "cells": [
    {
      "cell_type": "markdown",
      "id": "653cf042-be24-4c90-ab41-5f2604da0253",
      "metadata": {
        "id": "653cf042-be24-4c90-ab41-5f2604da0253"
      },
      "source": [
        "# B.1 TBOX definition"
      ]
    },
    {
      "cell_type": "code",
      "source": [
        "!pip install rdflib"
      ],
      "metadata": {
        "id": "C4E7SGWki7Xe",
        "outputId": "13d6cce6-6d51-4be0-aa29-7ffda36d2366",
        "colab": {
          "base_uri": "https://localhost:8080/"
        }
      },
      "id": "C4E7SGWki7Xe",
      "execution_count": 1,
      "outputs": [
        {
          "output_type": "stream",
          "name": "stdout",
          "text": [
            "Collecting rdflib\n",
            "  Downloading rdflib-7.0.0-py3-none-any.whl (531 kB)\n",
            "\u001b[2K     \u001b[90m━━━━━━━━━━━━━━━━━━━━━━━━━━━━━━━━━━━━━━━━\u001b[0m \u001b[32m531.9/531.9 kB\u001b[0m \u001b[31m6.1 MB/s\u001b[0m eta \u001b[36m0:00:00\u001b[0m\n",
            "\u001b[?25hCollecting isodate<0.7.0,>=0.6.0 (from rdflib)\n",
            "  Downloading isodate-0.6.1-py2.py3-none-any.whl (41 kB)\n",
            "\u001b[2K     \u001b[90m━━━━━━━━━━━━━━━━━━━━━━━━━━━━━━━━━━━━━━━━\u001b[0m \u001b[32m41.7/41.7 kB\u001b[0m \u001b[31m3.4 MB/s\u001b[0m eta \u001b[36m0:00:00\u001b[0m\n",
            "\u001b[?25hRequirement already satisfied: pyparsing<4,>=2.1.0 in /usr/local/lib/python3.10/dist-packages (from rdflib) (3.1.2)\n",
            "Requirement already satisfied: six in /usr/local/lib/python3.10/dist-packages (from isodate<0.7.0,>=0.6.0->rdflib) (1.16.0)\n",
            "Installing collected packages: isodate, rdflib\n",
            "Successfully installed isodate-0.6.1 rdflib-7.0.0\n"
          ]
        }
      ]
    },
    {
      "cell_type": "code",
      "execution_count": 2,
      "id": "af517972-9cc3-46a0-a3ea-ab63f8694d0d",
      "metadata": {
        "id": "af517972-9cc3-46a0-a3ea-ab63f8694d0d"
      },
      "outputs": [],
      "source": [
        "from rdflib import Graph, Namespace, Literal\n",
        "from rdflib.namespace import RDFS, RDF, XSD"
      ]
    },
    {
      "cell_type": "markdown",
      "id": "a3aec117-00ba-4d5b-bc46-00053319a8d7",
      "metadata": {
        "id": "a3aec117-00ba-4d5b-bc46-00053319a8d7"
      },
      "source": [
        "Define the namespace"
      ]
    },
    {
      "cell_type": "code",
      "execution_count": 3,
      "id": "b06ba53c-ff83-4861-9e8c-22346e0a5452",
      "metadata": {
        "id": "b06ba53c-ff83-4861-9e8c-22346e0a5452"
      },
      "outputs": [],
      "source": [
        "LAB = Namespace('http://www.example.edu/')"
      ]
    },
    {
      "cell_type": "markdown",
      "id": "82f91516-a51a-453c-81b5-df913871e496",
      "metadata": {
        "id": "82f91516-a51a-453c-81b5-df913871e496"
      },
      "source": [
        "In this section, we want to define the TBOX, that is, the conceptual level of entities and their inter-relationships."
      ]
    },
    {
      "cell_type": "code",
      "execution_count": 4,
      "id": "41f8fe5f-2af5-4fe6-958e-62035625c951",
      "metadata": {
        "id": "41f8fe5f-2af5-4fe6-958e-62035625c951"
      },
      "outputs": [],
      "source": [
        "g = Graph()\n",
        "g.bind(\"LAB\", LAB)"
      ]
    },
    {
      "cell_type": "markdown",
      "id": "e31435aa-a6bb-4b87-a91b-2f58a7f40fde",
      "metadata": {
        "id": "e31435aa-a6bb-4b87-a91b-2f58a7f40fde"
      },
      "source": [
        "## Definition"
      ]
    },
    {
      "cell_type": "markdown",
      "id": "58ae0f7c-62f2-42ca-a650-e9d537791a8e",
      "metadata": {
        "id": "58ae0f7c-62f2-42ca-a650-e9d537791a8e"
      },
      "source": [
        "### Class"
      ]
    },
    {
      "cell_type": "code",
      "execution_count": 5,
      "id": "62d5ccea-f48e-4823-b6ff-aa8ec4bb0986",
      "metadata": {
        "id": "62d5ccea-f48e-4823-b6ff-aa8ec4bb0986",
        "outputId": "03fc8aa4-c276-4eb9-92cb-937c5df5a8cd",
        "colab": {
          "base_uri": "https://localhost:8080/"
        }
      },
      "outputs": [
        {
          "output_type": "execute_result",
          "data": {
            "text/plain": [
              "<Graph identifier=Ne9c27efc418848399a7ac0eec5231d6a (<class 'rdflib.graph.Graph'>)>"
            ]
          },
          "metadata": {},
          "execution_count": 5
        }
      ],
      "source": [
        "g.add((LAB.paper,RDF.type,RDFS.Class))\n",
        "g.add((LAB.person,RDF.type,RDFS.Class))\n",
        "g.add((LAB.venue,RDF.type,RDFS.Class))\n",
        "g.add((LAB.proceeding,RDF.type,RDFS.Class))\n",
        "g.add((LAB.keyword,RDF.type,RDFS.Class))\n",
        "g.add((LAB.journal,RDF.type,RDFS.Class))\n",
        "g.add((LAB.volume,RDF.type,RDFS.Class))\n",
        "g.add((LAB.writes,RDF.type,RDFS.Class))\n",
        "g.add((LAB.review,RDF.type,RDFS.Class))"
      ]
    },
    {
      "cell_type": "markdown",
      "id": "d09d837b-7fd2-4e00-88f3-f66870f60b9d",
      "metadata": {
        "id": "d09d837b-7fd2-4e00-88f3-f66870f60b9d"
      },
      "source": [
        "### Subclasses"
      ]
    },
    {
      "cell_type": "code",
      "execution_count": 6,
      "id": "2e41c75d-0fa4-4542-8353-a429f55d952c",
      "metadata": {
        "id": "2e41c75d-0fa4-4542-8353-a429f55d952c",
        "outputId": "9824c442-134e-4415-c3e1-9ed4d49300f1",
        "colab": {
          "base_uri": "https://localhost:8080/"
        }
      },
      "outputs": [
        {
          "output_type": "execute_result",
          "data": {
            "text/plain": [
              "<Graph identifier=Ne9c27efc418848399a7ac0eec5231d6a (<class 'rdflib.graph.Graph'>)>"
            ]
          },
          "metadata": {},
          "execution_count": 6
        }
      ],
      "source": [
        "g.add((LAB.author,RDFS.subClassOf,LAB.person))\n",
        "g.add((LAB.reviewer,RDFS.subClassOf,LAB.person))\n",
        "g.add((LAB.chair,RDFS.subClassOf,LAB.person))\n",
        "g.add((LAB.conference,RDFS.subClassOf,LAB.venue))\n",
        "g.add((LAB.workshop,RDFS.subClassOf,LAB.venue))"
      ]
    },
    {
      "cell_type": "markdown",
      "id": "40c30ff4-c1b4-4675-87d8-31e3c710d5e8",
      "metadata": {
        "id": "40c30ff4-c1b4-4675-87d8-31e3c710d5e8"
      },
      "source": [
        "### Properties"
      ]
    },
    {
      "cell_type": "code",
      "execution_count": 7,
      "id": "16067dc7-5593-438c-ba4a-fdeb577c3b54",
      "metadata": {
        "id": "16067dc7-5593-438c-ba4a-fdeb577c3b54",
        "outputId": "34cfe026-ef34-4ba9-c7a5-0fe7286453dd",
        "colab": {
          "base_uri": "https://localhost:8080/"
        }
      },
      "outputs": [
        {
          "output_type": "execute_result",
          "data": {
            "text/plain": [
              "<Graph identifier=Ne9c27efc418848399a7ac0eec5231d6a (<class 'rdflib.graph.Graph'>)>"
            ]
          },
          "metadata": {},
          "execution_count": 7
        }
      ],
      "source": [
        "# For the properties of paper:\n",
        "g.add((LAB.paper_id,RDF.type,RDF.Property))\n",
        "g.add((LAB.paper_id,RDFS.domain,LAB.paper))\n",
        "\n",
        "g.add((LAB.paper_title,RDF.type,RDF.Property))\n",
        "g.add((LAB.paper_title,RDFS.domain,LAB.paper))\n",
        "\n",
        "g.add((LAB.doi,RDF.type,RDF.Property))\n",
        "g.add((LAB.doi,RDFS.domain,LAB.paper))\n",
        "\n",
        "g.add((LAB.link,RDF.type,RDF.Property))\n",
        "g.add((LAB.link,RDFS.domain,LAB.paper))\n",
        "\n",
        "g.add((LAB.abstract,RDF.type,RDF.Property))\n",
        "g.add((LAB.abstract,RDFS.domain,LAB.paper))\n",
        "\n",
        "g.add((LAB.num_pages,RDF.type,RDF.Property))\n",
        "g.add((LAB.num_pages,RDFS.domain,LAB.paper))\n",
        "\n",
        "# For the properties of person:\n",
        "g.add((LAB.person_id,RDF.type,RDF.Property))\n",
        "g.add((LAB.person_id,RDFS.domain,LAB.person))\n",
        "\n",
        "g.add((LAB.person_name,RDF.type,RDF.Property))\n",
        "g.add((LAB.person_name,RDFS.domain,LAB.person))\n",
        "\n",
        "g.add((LAB.email,RDF.type,RDF.Property))\n",
        "g.add((LAB.email,RDFS.domain,LAB.person))\n",
        "\n",
        "g.add((LAB.department,RDF.type,RDF.Property))\n",
        "g.add((LAB.department,RDFS.domain,LAB.person))\n",
        "\n",
        "g.add((LAB.institution,RDF.type,RDF.Property))\n",
        "g.add((LAB.institution,RDFS.domain,LAB.person))\n",
        "\n",
        "# For the properties of journal:\n",
        "g.add((LAB.journal_id,RDF.type,RDF.Property))\n",
        "g.add((LAB.journal_id,RDFS.domain,LAB.journal))\n",
        "\n",
        "g.add((LAB.journal_name,RDF.type,RDF.Property))\n",
        "g.add((LAB.journal_name,RDFS.domain,LAB.journal))\n",
        "\n",
        "# For the properties of venue:\n",
        "g.add((LAB.venue_id,RDF.type,RDF.Property))\n",
        "g.add((LAB.venue_id,RDFS.domain,LAB.venue))\n",
        "\n",
        "g.add((LAB.venue_name,RDF.type,RDF.Property))\n",
        "g.add((LAB.venue_name,RDFS.domain,LAB.venue))\n",
        "\n",
        "g.add((LAB.venue_year,RDF.type,RDF.Property))\n",
        "g.add((LAB.venue_year,RDFS.domain,LAB.venue))\n",
        "\n",
        "g.add((LAB.venue_edition,RDF.type,RDF.Property))\n",
        "g.add((LAB.venue_edition,RDFS.domain,LAB.venue))\n",
        "\n",
        "# For the properties of proceeding:\n",
        "g.add((LAB.proceeding_id,RDF.type,RDF.Property))\n",
        "g.add((LAB.proceeding_id,RDFS.domain,LAB.proceeding))\n",
        "\n",
        "g.add((LAB.proceeding_name,RDF.type,RDF.Property))\n",
        "g.add((LAB.proceeding_name,RDFS.domain,LAB.proceeding))\n",
        "\n",
        "g.add((LAB.city,RDF.type,RDF.Property))\n",
        "g.add((LAB.city,RDFS.domain,LAB.proceeding))\n",
        "\n",
        "# For the properties of keyword:\n",
        "g.add((LAB.keyword_id,RDF.type,RDF.Property))\n",
        "g.add((LAB.keyword_id,RDFS.domain,LAB.keyword))\n",
        "\n",
        "g.add((LAB.keyword_name,RDF.type,RDF.Property))\n",
        "g.add((LAB.keyword_name,RDFS.domain,LAB.keyword))\n",
        "\n",
        "g.add((LAB.domain,RDF.type,RDF.Property))\n",
        "g.add((LAB.domain,RDFS.domain,LAB.keyword))\n",
        "\n",
        "# For the properties of writes:\n",
        "g.add((LAB.is_corresponding_author,RDF.type,RDF.Property))\n",
        "g.add((LAB.is_corresponding_author,RDFS.domain,LAB.writes))\n",
        "\n",
        "# For the properties of volume:\n",
        "g.add((LAB.volume,RDF.type,RDF.Property))\n",
        "g.add((LAB.volume,RDFS.domain,LAB.volume))\n",
        "\n",
        "g.add((LAB.publishing_year,RDF.type,RDF.Property))\n",
        "g.add((LAB.publishing_year,RDFS.domain,LAB.volume))\n",
        "\n",
        "# For the properties of review:\n",
        "g.add((LAB.acceptanceProbability,RDF.type,RDF.Property))\n",
        "g.add((LAB.acceptanceProbability,RDFS.domain,LAB.review))"
      ]
    },
    {
      "cell_type": "markdown",
      "id": "e9630e94-2b58-4e20-a57c-fe8b1cd6e9dc",
      "metadata": {
        "id": "e9630e94-2b58-4e20-a57c-fe8b1cd6e9dc"
      },
      "source": [
        "### Relationships"
      ]
    },
    {
      "cell_type": "code",
      "execution_count": 8,
      "id": "0183344c-a866-4a4f-a261-fcaa45bdcba8",
      "metadata": {
        "id": "0183344c-a866-4a4f-a261-fcaa45bdcba8",
        "outputId": "bb234e12-4531-4b50-9e26-81176a36558e",
        "colab": {
          "base_uri": "https://localhost:8080/"
        }
      },
      "outputs": [
        {
          "output_type": "execute_result",
          "data": {
            "text/plain": [
              "<Graph identifier=Ne9c27efc418848399a7ac0eec5231d6a (<class 'rdflib.graph.Graph'>)>"
            ]
          },
          "metadata": {},
          "execution_count": 8
        }
      ],
      "source": [
        "# The relationship between paper and venue:\n",
        "g.add((LAB.presented_in,RDF.type, RDF.Property))\n",
        "g.add((LAB.presented_in,RDFS.domain,LAB.paper))\n",
        "g.add((LAB.presented_in,RDFS.range,LAB.venue))\n",
        "g.add((LAB.paper,LAB.presented_in,LAB.venue))\n",
        "\n",
        "# The relationship between venue and proceeding:\n",
        "g.add((LAB.part_of,RDF.type, RDF.Property))\n",
        "g.add((LAB.part_of,RDFS.domain,LAB.proceeding))\n",
        "g.add((LAB.part_of,RDFS.range,LAB.venue))\n",
        "g.add((LAB.proceeding,LAB.part_of,LAB.volume))\n",
        "\n",
        "# The relationship of a cited paper:\n",
        "g.add((LAB.cites,RDF.type, RDF.Property))\n",
        "g.add((LAB.cites,RDFS.domain,LAB.paper))\n",
        "g.add((LAB.cites,RDFS.range,LAB.paper))\n",
        "g.add((LAB.paper,LAB.cites,LAB.paper))\n",
        "\n",
        "# The relationship between paper and keyword:\n",
        "g.add((LAB.has_keyword,RDF.type, RDF.Property))\n",
        "g.add((LAB.has_keyword,RDFS.domain,LAB.paper))\n",
        "g.add((LAB.has_keyword,RDFS.range,LAB.keyword))\n",
        "g.add((LAB.paper,LAB.has_keyword,LAB.keyword))\n",
        "\n",
        "# The relationship between review and paper:\n",
        "g.add((LAB.reviews,RDF.type, RDF.Property))\n",
        "g.add((LAB.reviews,RDFS.domain,LAB.review))\n",
        "g.add((LAB.reviews,RDFS.range,LAB.paper))\n",
        "g.add((LAB.review,LAB.reviews,LAB.paper))\n",
        "\n",
        "# The relationship between review and reviewer:\n",
        "g.add((LAB.reviewed_by,RDF.type, RDF.Property))\n",
        "g.add((LAB.reviewed_by,RDFS.domain,LAB.review))\n",
        "g.add((LAB.reviewed_by,RDFS.range,LAB.reviewer))\n",
        "g.add((LAB.review,LAB.reviewed_by,LAB.reviewer))\n",
        "\n",
        "# The relationship between writes and author:\n",
        "g.add((LAB.written_by,RDF.type, RDF.Property))\n",
        "g.add((LAB.written_by,RDFS.domain,LAB.writes))\n",
        "g.add((LAB.written_by,RDFS.range,LAB.author))\n",
        "g.add((LAB.writes,LAB.written_by,LAB.author))\n",
        "\n",
        "# The relationship between writes and paper:\n",
        "g.add((LAB.has_written,RDF.type, RDF.Property))\n",
        "g.add((LAB.has_written,RDFS.domain,LAB.writes))\n",
        "g.add((LAB.has_written,RDFS.range,LAB.paper))\n",
        "g.add((LAB.writes,LAB.has_written,LAB.paper))\n",
        "\n",
        "# The relationship between volume and journal:\n",
        "g.add((LAB.in_volume,RDF.type, RDF.Property))\n",
        "g.add((LAB.in_volume,RDFS.domain,LAB.journal))\n",
        "g.add((LAB.in_volume,RDFS.range,LAB.volume))\n",
        "g.add((LAB.journal,LAB.in_volume,LAB.volume))\n",
        "\n",
        "# The relationship between volume and paper:\n",
        "g.add((LAB.published_paper,RDF.type, RDF.Property))\n",
        "g.add((LAB.published_paper,RDFS.domain,LAB.volume))\n",
        "g.add((LAB.published_paper,RDFS.range,LAB.paper))\n",
        "g.add((LAB.volume,LAB.published_paper,LAB.paper))\n",
        "\n",
        "# The relationship between venue and chair:\n",
        "g.add((LAB.is_chair,RDF.type, RDF.Property))\n",
        "g.add((LAB.is_chair,RDFS.domain,LAB.volume))\n",
        "g.add((LAB.is_chair,RDFS.range,LAB.paper))\n",
        "g.add((LAB.venue,LAB.is_chair,LAB.chair))"
      ]
    },
    {
      "cell_type": "markdown",
      "id": "e3049f47-06f6-4528-b353-6c4230f6b36a",
      "metadata": {
        "id": "e3049f47-06f6-4528-b353-6c4230f6b36a"
      },
      "source": [
        "## Serialize"
      ]
    },
    {
      "cell_type": "markdown",
      "id": "35cb92d7-455a-48ec-9290-4d02a792b388",
      "metadata": {
        "id": "35cb92d7-455a-48ec-9290-4d02a792b388"
      },
      "source": [
        "Finally, we can save the file."
      ]
    },
    {
      "cell_type": "code",
      "execution_count": 9,
      "id": "4eda2597-61df-409e-b493-61ee149d9717",
      "metadata": {
        "id": "4eda2597-61df-409e-b493-61ee149d9717",
        "outputId": "6df0591b-dc3a-4151-fc81-d099f722c809",
        "colab": {
          "base_uri": "https://localhost:8080/"
        }
      },
      "outputs": [
        {
          "output_type": "execute_result",
          "data": {
            "text/plain": [
              "<Graph identifier=Ne9c27efc418848399a7ac0eec5231d6a (<class 'rdflib.graph.Graph'>)>"
            ]
          },
          "metadata": {},
          "execution_count": 9
        }
      ],
      "source": [
        "g.serialize('tbox.ttl',format='turtle')"
      ]
    },
    {
      "cell_type": "markdown",
      "id": "659f1ac8-5652-4d22-8068-1a478912f679",
      "metadata": {
        "id": "659f1ac8-5652-4d22-8068-1a478912f679"
      },
      "source": [
        "# B.2 ABOX definition / B.3 Create the final ontology"
      ]
    },
    {
      "cell_type": "markdown",
      "id": "4eb0d55d-8cb1-48af-a596-72f5c301f6da",
      "metadata": {
        "id": "4eb0d55d-8cb1-48af-a596-72f5c301f6da"
      },
      "source": [
        "First, let's load all the data:"
      ]
    },
    {
      "cell_type": "code",
      "execution_count": 10,
      "id": "d3dee881-8707-4fd0-a9df-e72aca72f87e",
      "metadata": {
        "id": "d3dee881-8707-4fd0-a9df-e72aca72f87e"
      },
      "outputs": [],
      "source": [
        "import pandas as pd\n",
        "import random\n",
        "\n",
        "dtype_semantics = {'ID': str}\n",
        "dtype_relations = {'START_ID': str,'END_ID': str}\n",
        "\n",
        "reviews_df = pd.read_csv(\"author_review_papers.csv\", dtype=dtype_relations)\n",
        "writes_df = pd.read_csv('author_writes_papers.csv', dtype=dtype_relations)\n",
        "author_df = pd.read_csv('authors_semantics.csv', dtype=dtype_semantics)\n",
        "part_of_df = pd.read_csv('conference_part_of_proceeding.csv', dtype=dtype_relations)\n",
        "venue_df = pd.read_csv('conference_semantics.csv', dtype=dtype_semantics)\n",
        "journal_df = pd.read_csv('journal_semantics.csv', dtype=dtype_semantics)\n",
        "keywords_df = pd.read_csv('keywords_semantics.csv', dtype=dtype_semantics)\n",
        "cites_df = pd.read_csv('paper_cites_paper.csv', dtype=dtype_relations)\n",
        "has_df = pd.read_csv('paper_has_keywords.csv', dtype=dtype_semantics)\n",
        "presented_in_df = pd.read_csv('paper_presented_in_conference.csv', dtype=dtype_relations)\n",
        "published_in_df = pd.read_csv('paper_published_in_journal.csv', dtype=dtype_relations)\n",
        "paper_df = pd.read_csv('paper_semantics.csv', dtype=dtype_semantics)\n",
        "proceeding_df = pd.read_csv(\"proceeding_semantics.csv\", dtype=dtype_relations)"
      ]
    },
    {
      "cell_type": "markdown",
      "id": "94bdac11-e353-4029-aaed-04bee5456d80",
      "metadata": {
        "id": "94bdac11-e353-4029-aaed-04bee5456d80"
      },
      "source": [
        "Since there is some features that our data is missing let's add them now. It can be seen that the data only contains conferences, that is because all the events has been classified as conference. Let's divide them into either conference or workshop. In addition, we will add a conference chair."
      ]
    },
    {
      "cell_type": "code",
      "execution_count": 11,
      "id": "8c7398c9-ccf8-4b4a-abb6-d338e4fa15cf",
      "metadata": {
        "scrolled": true,
        "id": "8c7398c9-ccf8-4b4a-abb6-d338e4fa15cf"
      },
      "outputs": [],
      "source": [
        "# Function to assign a random chair ID based on row data\n",
        "def assign_chair_id(row):\n",
        "    return random.choice(author_df['ID'].tolist())  # Choose a random ID from author_df\n",
        "\n",
        "\n",
        "venue_df = (\n",
        "    venue_df\n",
        "    # If name contains the word Conference, we consider it a conference, if not, a workshop\n",
        "    .assign(is_conference=lambda x: x['name'].str.contains('Conference', case=False))\n",
        "    # The conference chair should be an author himself\n",
        "    .assign(chair_ID=lambda x: x.apply(assign_chair_id, axis=1))\n",
        ")"
      ]
    },
    {
      "cell_type": "markdown",
      "id": "ea120916-4cd7-4748-b3af-4bbe556c327c",
      "metadata": {
        "id": "ea120916-4cd7-4748-b3af-4bbe556c327c"
      },
      "source": [
        "## Loading"
      ]
    },
    {
      "cell_type": "markdown",
      "id": "ad72ca02-a516-4253-9a77-b6fe6e710f7b",
      "metadata": {
        "id": "ad72ca02-a516-4253-9a77-b6fe6e710f7b"
      },
      "source": [
        "### Paper"
      ]
    },
    {
      "cell_type": "code",
      "execution_count": 12,
      "id": "e5cf526f-3e9a-4474-9197-324f6247e3a9",
      "metadata": {
        "id": "e5cf526f-3e9a-4474-9197-324f6247e3a9"
      },
      "outputs": [],
      "source": [
        "for index,row in paper_df.iterrows():\n",
        "    # Connect with the element\n",
        "    g.add((LAB.paper+\"/\"+str(row['ID']),RDF.type,LAB.paper))\n",
        "    # Load all the properties\n",
        "    g.add((LAB.paper+\"/\"+str(row['ID']),LAB.paper_id, Literal(row['ID'], datatype=XSD.string)))\n",
        "    g.add((LAB.paper+\"/\"+str(row['ID']),LAB.paper_title, Literal(row['title'], datatype=XSD.string)))\n",
        "    g.add((LAB.paper+\"/\"+str(row['ID']),LAB.abstract, Literal(row['abstract'], datatype=XSD.string)))\n",
        "    g.add((LAB.paper+\"/\"+str(row['ID']),LAB.num_pages, Literal(row['pages'], datatype=XSD.string)))\n",
        "    g.add((LAB.paper+\"/\"+str(row['ID']),LAB.doi, Literal(row['doi'], datatype=XSD.string)))\n",
        "    g.add((LAB.paper+\"/\"+str(row['ID']),LAB.link, Literal(row['link'], datatype=XSD.string)))"
      ]
    },
    {
      "cell_type": "markdown",
      "id": "4001a6de-5833-4402-9eee-471ae73f409b",
      "metadata": {
        "id": "4001a6de-5833-4402-9eee-471ae73f409b"
      },
      "source": [
        "### Author"
      ]
    },
    {
      "cell_type": "code",
      "execution_count": 13,
      "id": "15cc4cb5-5bc0-49bf-874a-ba5874117cb6",
      "metadata": {
        "id": "15cc4cb5-5bc0-49bf-874a-ba5874117cb6"
      },
      "outputs": [],
      "source": [
        "for index,row in author_df.iterrows():\n",
        "    # Connect with the element\n",
        "    g.add((LAB.person+\"/\"+str(row['ID']),RDF.type,LAB.author))\n",
        "    # Load all the properties\n",
        "    g.add((LAB.person+\"/\"+str(row['ID']),LAB.person_id, Literal(row['ID'], datatype=XSD.string)))\n",
        "    g.add((LAB.person+\"/\"+str(row['ID']),LAB.person_name, Literal(row['name'], datatype=XSD.string)))\n",
        "    g.add((LAB.person+\"/\"+str(row['ID']),LAB.email, Literal(row['email'], datatype=XSD.string)))\n",
        "    g.add((LAB.person+\"/\"+str(row['ID']),LAB.department, Literal(row['department'], datatype=XSD.string)))\n",
        "    g.add((LAB.person+\"/\"+str(row['ID']),LAB.institution, Literal(row['institution'], datatype=XSD.string)))"
      ]
    },
    {
      "cell_type": "markdown",
      "id": "2aaff0d3-10d8-444d-a20a-159a21811135",
      "metadata": {
        "id": "2aaff0d3-10d8-444d-a20a-159a21811135"
      },
      "source": [
        "### Conference/workshop"
      ]
    },
    {
      "cell_type": "code",
      "execution_count": 14,
      "id": "a169ef31-7aa6-41e4-9a7d-db7b3f7ee30b",
      "metadata": {
        "id": "a169ef31-7aa6-41e4-9a7d-db7b3f7ee30b"
      },
      "outputs": [],
      "source": [
        "for index,row in venue_df.iterrows():\n",
        "    if row['is_conference'] == True:\n",
        "        # Connect with the element\n",
        "        g.add((LAB.venue+\"/\"+str(row['ID']),RDF.type,LAB.conference))\n",
        "        # Load all the properties\n",
        "        g.add((LAB.venue+\"/\"+str(row['ID']),LAB.venue_id, Literal(row['ID'], datatype=XSD.string)))\n",
        "        g.add((LAB.venue+\"/\"+str(row['ID']),LAB.venue_name, Literal(row['name'], datatype=XSD.string)))\n",
        "        g.add((LAB.venue+\"/\"+str(row['ID']),LAB.venue_year, Literal(row['year'], datatype=XSD.string)))\n",
        "        g.add((LAB.venue+\"/\"+str(row['ID']),LAB.venue_edition, Literal(row['edition'], datatype=XSD.string)))\n",
        "    else:\n",
        "        # Connect with the element\n",
        "        g.add((LAB.venue+\"/\"+str(row['ID']),RDF.type,LAB.workshop))\n",
        "        # Load all the properties\n",
        "        g.add((LAB.venue+\"/\"+str(row['ID']),LAB.venue_id, Literal(row['ID'], datatype=XSD.string)))\n",
        "        g.add((LAB.venue+\"/\"+str(row['ID']),LAB.venue_name, Literal(row['name'], datatype=XSD.string)))\n",
        "        g.add((LAB.venue+\"/\"+str(row['ID']),LAB.venue_year, Literal(row['year'], datatype=XSD.string)))\n",
        "        g.add((LAB.venue+\"/\"+str(row['ID']),LAB.venue_edition, Literal(row['edition'], datatype=XSD.string)))"
      ]
    },
    {
      "cell_type": "markdown",
      "id": "a01f2379-95e5-45a9-b87e-ce02b054792a",
      "metadata": {
        "id": "a01f2379-95e5-45a9-b87e-ce02b054792a"
      },
      "source": [
        "### Journal"
      ]
    },
    {
      "cell_type": "code",
      "execution_count": 15,
      "id": "5b83c362-aab5-43ca-865b-bdce0040bdd6",
      "metadata": {
        "id": "5b83c362-aab5-43ca-865b-bdce0040bdd6"
      },
      "outputs": [],
      "source": [
        "for index,row in journal_df.iterrows():\n",
        "    # Connect with the element\n",
        "    g.add((LAB.journal+\"/\"+str(row['ID']),RDF.type,LAB.journal))\n",
        "    # Load all the properties\n",
        "    g.add((LAB.journal+\"/\"+str(row['ID']),LAB.journal_id, Literal(row['ID'], datatype=XSD.string)))\n",
        "    g.add((LAB.journal+\"/\"+str(row['ID']),LAB.journal_name, Literal(row['name'], datatype=XSD.string)))"
      ]
    },
    {
      "cell_type": "markdown",
      "id": "93163bc5-8526-460d-a34c-e8d9e28acd74",
      "metadata": {
        "id": "93163bc5-8526-460d-a34c-e8d9e28acd74"
      },
      "source": [
        "### Keyword"
      ]
    },
    {
      "cell_type": "code",
      "execution_count": 16,
      "id": "3a201ee8-1fa8-43d9-9362-bbcc7ff9912c",
      "metadata": {
        "id": "3a201ee8-1fa8-43d9-9362-bbcc7ff9912c"
      },
      "outputs": [],
      "source": [
        "for index,row in keywords_df.iterrows():\n",
        "    # Connect with the element\n",
        "    g.add((LAB.keyword+\"/\"+str(row['ID']),RDF.type,LAB.keyword))\n",
        "    # Load all the properties\n",
        "    g.add((LAB.keyword+\"/\"+str(row['ID']),LAB.keyword_id, Literal(row['ID'], datatype=XSD.string)))\n",
        "    g.add((LAB.keyword+\"/\"+str(row['ID']),LAB.keyword_name, Literal(row['name'], datatype=XSD.string)))\n",
        "    g.add((LAB.keyword+\"/\"+str(row['ID']),LAB.domain, Literal(row['domain'], datatype=XSD.string)))"
      ]
    },
    {
      "cell_type": "markdown",
      "id": "646112a5-7ed2-464b-aa6d-cbcaeea10830",
      "metadata": {
        "id": "646112a5-7ed2-464b-aa6d-cbcaeea10830"
      },
      "source": [
        "### Proceeding"
      ]
    },
    {
      "cell_type": "code",
      "execution_count": 17,
      "id": "f7dd4929-023e-49ef-a740-b889e61feac0",
      "metadata": {
        "id": "f7dd4929-023e-49ef-a740-b889e61feac0"
      },
      "outputs": [],
      "source": [
        "for index,row in proceeding_df.iterrows():\n",
        "    # Connect with the element\n",
        "    g.add((LAB.proceeding+\"/\"+str(row['ID']),RDF.type,LAB.proceeding))\n",
        "    # Load all the properties\n",
        "    g.add((LAB.proceeding+\"/\"+str(row['ID']),LAB.proceeding_id, Literal(row['ID'], datatype=XSD.string)))\n",
        "    g.add((LAB.proceeding+\"/\"+str(row['ID']),LAB.proceeding_name, Literal(row['name'], datatype=XSD.string)))\n",
        "    g.add((LAB.proceeding+\"/\"+str(row['ID']),LAB.city, Literal(row['city'], datatype=XSD.string)))\n"
      ]
    },
    {
      "cell_type": "markdown",
      "id": "0ceb9212-724f-4527-92b2-ec120cdf282b",
      "metadata": {
        "id": "0ceb9212-724f-4527-92b2-ec120cdf282b"
      },
      "source": [
        "### Writes"
      ]
    },
    {
      "cell_type": "code",
      "execution_count": 18,
      "id": "118b0f14-d6f8-4e5b-94de-f52b8bfa0c55",
      "metadata": {
        "id": "118b0f14-d6f8-4e5b-94de-f52b8bfa0c55"
      },
      "outputs": [],
      "source": [
        "for index,row in writes_df.iterrows():\n",
        "    # Connect with the element\n",
        "    g.add((LAB.writes+\"/\"+(str(row['START_ID'])+str(row['END_ID'])),RDF.type,LAB.writes))\n",
        "    # Load all the properties\n",
        "    g.add((LAB.writes+\"/\"+(str(row['START_ID'])+str(row['END_ID'])),LAB.is_corresponding_author, Literal(row['corresponding_author'], datatype=XSD.string)))"
      ]
    },
    {
      "cell_type": "markdown",
      "id": "3e391eea-ed3c-4281-a903-b12713f63898",
      "metadata": {
        "id": "3e391eea-ed3c-4281-a903-b12713f63898"
      },
      "source": [
        "### Published_in"
      ]
    },
    {
      "cell_type": "code",
      "source": [
        "published_in_df"
      ],
      "metadata": {
        "id": "LysiVrL3nfsP",
        "outputId": "61af975b-9c8d-4e8d-9019-2eec6a2dbcd2",
        "colab": {
          "base_uri": "https://localhost:8080/",
          "height": 443
        }
      },
      "id": "LysiVrL3nfsP",
      "execution_count": 19,
      "outputs": [
        {
          "output_type": "execute_result",
          "data": {
            "text/plain": [
              "                                     START_ID  \\\n",
              "0    0c2d3b28d48426b8b72f7214a7708ba8b4efa9d6   \n",
              "1    4c6e31458b0b44c1e8bd6e58f7d7e0767f7fde44   \n",
              "2    3569c79cf90b203325dd7b8f6c30bacc60f5d30e   \n",
              "3    4ce46acc4a40038b02014c1bbce3e451586ebe05   \n",
              "4    0b1d429110757c1a9deb27fb8568740182dc1679   \n",
              "..                                        ...   \n",
              "342  f5a04ec1d43b3d5385ad450dd28dcac11e300f64   \n",
              "343  3335c340c20609b4e6de481c9eaf67ecd6c960dc   \n",
              "344  12d8a9991ee7aecc65bc0991959c5b58a367b2ae   \n",
              "345  1ee0abcb8f0afd74d602255d529d7c2a036a8f02   \n",
              "346  8ece479b5dfed4727d2d9b9763f777bb9a94096e   \n",
              "\n",
              "                                   END_ID volume  year  \n",
              "0    458166b3-de17-4bf3-bbbb-e53782de2f0f      1  2019  \n",
              "1    c6840156-ee10-4d78-8832-7f8909811576     33  2021  \n",
              "2    7a7dc89b-e1a6-44df-a496-46c330a87840      2  2021  \n",
              "3    6076bd95-0124-4b5d-8346-476b7287818c      1  2022  \n",
              "4    41dbb273-8d18-4a45-8154-852882a37b34     21  2020  \n",
              "..                                    ...    ...   ...  \n",
              "342  bc30f894-9a9c-440e-8420-7bd3c5624384      2  2018  \n",
              "343  bc30f894-9a9c-440e-8420-7bd3c5624384      3  2019  \n",
              "344  bc30f894-9a9c-440e-8420-7bd3c5624384      4  2020  \n",
              "345  bc30f894-9a9c-440e-8420-7bd3c5624384      5  2021  \n",
              "346  c6840156-ee10-4d78-8832-7f8909811576      1  2017  \n",
              "\n",
              "[347 rows x 4 columns]"
            ],
            "text/html": [
              "\n",
              "  <div id=\"df-2010d9dc-c922-4d95-ab2a-dcda3c87e7e0\" class=\"colab-df-container\">\n",
              "    <div>\n",
              "<style scoped>\n",
              "    .dataframe tbody tr th:only-of-type {\n",
              "        vertical-align: middle;\n",
              "    }\n",
              "\n",
              "    .dataframe tbody tr th {\n",
              "        vertical-align: top;\n",
              "    }\n",
              "\n",
              "    .dataframe thead th {\n",
              "        text-align: right;\n",
              "    }\n",
              "</style>\n",
              "<table border=\"1\" class=\"dataframe\">\n",
              "  <thead>\n",
              "    <tr style=\"text-align: right;\">\n",
              "      <th></th>\n",
              "      <th>START_ID</th>\n",
              "      <th>END_ID</th>\n",
              "      <th>volume</th>\n",
              "      <th>year</th>\n",
              "    </tr>\n",
              "  </thead>\n",
              "  <tbody>\n",
              "    <tr>\n",
              "      <th>0</th>\n",
              "      <td>0c2d3b28d48426b8b72f7214a7708ba8b4efa9d6</td>\n",
              "      <td>458166b3-de17-4bf3-bbbb-e53782de2f0f</td>\n",
              "      <td>1</td>\n",
              "      <td>2019</td>\n",
              "    </tr>\n",
              "    <tr>\n",
              "      <th>1</th>\n",
              "      <td>4c6e31458b0b44c1e8bd6e58f7d7e0767f7fde44</td>\n",
              "      <td>c6840156-ee10-4d78-8832-7f8909811576</td>\n",
              "      <td>33</td>\n",
              "      <td>2021</td>\n",
              "    </tr>\n",
              "    <tr>\n",
              "      <th>2</th>\n",
              "      <td>3569c79cf90b203325dd7b8f6c30bacc60f5d30e</td>\n",
              "      <td>7a7dc89b-e1a6-44df-a496-46c330a87840</td>\n",
              "      <td>2</td>\n",
              "      <td>2021</td>\n",
              "    </tr>\n",
              "    <tr>\n",
              "      <th>3</th>\n",
              "      <td>4ce46acc4a40038b02014c1bbce3e451586ebe05</td>\n",
              "      <td>6076bd95-0124-4b5d-8346-476b7287818c</td>\n",
              "      <td>1</td>\n",
              "      <td>2022</td>\n",
              "    </tr>\n",
              "    <tr>\n",
              "      <th>4</th>\n",
              "      <td>0b1d429110757c1a9deb27fb8568740182dc1679</td>\n",
              "      <td>41dbb273-8d18-4a45-8154-852882a37b34</td>\n",
              "      <td>21</td>\n",
              "      <td>2020</td>\n",
              "    </tr>\n",
              "    <tr>\n",
              "      <th>...</th>\n",
              "      <td>...</td>\n",
              "      <td>...</td>\n",
              "      <td>...</td>\n",
              "      <td>...</td>\n",
              "    </tr>\n",
              "    <tr>\n",
              "      <th>342</th>\n",
              "      <td>f5a04ec1d43b3d5385ad450dd28dcac11e300f64</td>\n",
              "      <td>bc30f894-9a9c-440e-8420-7bd3c5624384</td>\n",
              "      <td>2</td>\n",
              "      <td>2018</td>\n",
              "    </tr>\n",
              "    <tr>\n",
              "      <th>343</th>\n",
              "      <td>3335c340c20609b4e6de481c9eaf67ecd6c960dc</td>\n",
              "      <td>bc30f894-9a9c-440e-8420-7bd3c5624384</td>\n",
              "      <td>3</td>\n",
              "      <td>2019</td>\n",
              "    </tr>\n",
              "    <tr>\n",
              "      <th>344</th>\n",
              "      <td>12d8a9991ee7aecc65bc0991959c5b58a367b2ae</td>\n",
              "      <td>bc30f894-9a9c-440e-8420-7bd3c5624384</td>\n",
              "      <td>4</td>\n",
              "      <td>2020</td>\n",
              "    </tr>\n",
              "    <tr>\n",
              "      <th>345</th>\n",
              "      <td>1ee0abcb8f0afd74d602255d529d7c2a036a8f02</td>\n",
              "      <td>bc30f894-9a9c-440e-8420-7bd3c5624384</td>\n",
              "      <td>5</td>\n",
              "      <td>2021</td>\n",
              "    </tr>\n",
              "    <tr>\n",
              "      <th>346</th>\n",
              "      <td>8ece479b5dfed4727d2d9b9763f777bb9a94096e</td>\n",
              "      <td>c6840156-ee10-4d78-8832-7f8909811576</td>\n",
              "      <td>1</td>\n",
              "      <td>2017</td>\n",
              "    </tr>\n",
              "  </tbody>\n",
              "</table>\n",
              "<p>347 rows × 4 columns</p>\n",
              "</div>\n",
              "    <div class=\"colab-df-buttons\">\n",
              "\n",
              "  <div class=\"colab-df-container\">\n",
              "    <button class=\"colab-df-convert\" onclick=\"convertToInteractive('df-2010d9dc-c922-4d95-ab2a-dcda3c87e7e0')\"\n",
              "            title=\"Convert this dataframe to an interactive table.\"\n",
              "            style=\"display:none;\">\n",
              "\n",
              "  <svg xmlns=\"http://www.w3.org/2000/svg\" height=\"24px\" viewBox=\"0 -960 960 960\">\n",
              "    <path d=\"M120-120v-720h720v720H120Zm60-500h600v-160H180v160Zm220 220h160v-160H400v160Zm0 220h160v-160H400v160ZM180-400h160v-160H180v160Zm440 0h160v-160H620v160ZM180-180h160v-160H180v160Zm440 0h160v-160H620v160Z\"/>\n",
              "  </svg>\n",
              "    </button>\n",
              "\n",
              "  <style>\n",
              "    .colab-df-container {\n",
              "      display:flex;\n",
              "      gap: 12px;\n",
              "    }\n",
              "\n",
              "    .colab-df-convert {\n",
              "      background-color: #E8F0FE;\n",
              "      border: none;\n",
              "      border-radius: 50%;\n",
              "      cursor: pointer;\n",
              "      display: none;\n",
              "      fill: #1967D2;\n",
              "      height: 32px;\n",
              "      padding: 0 0 0 0;\n",
              "      width: 32px;\n",
              "    }\n",
              "\n",
              "    .colab-df-convert:hover {\n",
              "      background-color: #E2EBFA;\n",
              "      box-shadow: 0px 1px 2px rgba(60, 64, 67, 0.3), 0px 1px 3px 1px rgba(60, 64, 67, 0.15);\n",
              "      fill: #174EA6;\n",
              "    }\n",
              "\n",
              "    .colab-df-buttons div {\n",
              "      margin-bottom: 4px;\n",
              "    }\n",
              "\n",
              "    [theme=dark] .colab-df-convert {\n",
              "      background-color: #3B4455;\n",
              "      fill: #D2E3FC;\n",
              "    }\n",
              "\n",
              "    [theme=dark] .colab-df-convert:hover {\n",
              "      background-color: #434B5C;\n",
              "      box-shadow: 0px 1px 3px 1px rgba(0, 0, 0, 0.15);\n",
              "      filter: drop-shadow(0px 1px 2px rgba(0, 0, 0, 0.3));\n",
              "      fill: #FFFFFF;\n",
              "    }\n",
              "  </style>\n",
              "\n",
              "    <script>\n",
              "      const buttonEl =\n",
              "        document.querySelector('#df-2010d9dc-c922-4d95-ab2a-dcda3c87e7e0 button.colab-df-convert');\n",
              "      buttonEl.style.display =\n",
              "        google.colab.kernel.accessAllowed ? 'block' : 'none';\n",
              "\n",
              "      async function convertToInteractive(key) {\n",
              "        const element = document.querySelector('#df-2010d9dc-c922-4d95-ab2a-dcda3c87e7e0');\n",
              "        const dataTable =\n",
              "          await google.colab.kernel.invokeFunction('convertToInteractive',\n",
              "                                                    [key], {});\n",
              "        if (!dataTable) return;\n",
              "\n",
              "        const docLinkHtml = 'Like what you see? Visit the ' +\n",
              "          '<a target=\"_blank\" href=https://colab.research.google.com/notebooks/data_table.ipynb>data table notebook</a>'\n",
              "          + ' to learn more about interactive tables.';\n",
              "        element.innerHTML = '';\n",
              "        dataTable['output_type'] = 'display_data';\n",
              "        await google.colab.output.renderOutput(dataTable, element);\n",
              "        const docLink = document.createElement('div');\n",
              "        docLink.innerHTML = docLinkHtml;\n",
              "        element.appendChild(docLink);\n",
              "      }\n",
              "    </script>\n",
              "  </div>\n",
              "\n",
              "\n",
              "<div id=\"df-f271b601-13aa-43d0-a6b7-fb79c1ae2198\">\n",
              "  <button class=\"colab-df-quickchart\" onclick=\"quickchart('df-f271b601-13aa-43d0-a6b7-fb79c1ae2198')\"\n",
              "            title=\"Suggest charts\"\n",
              "            style=\"display:none;\">\n",
              "\n",
              "<svg xmlns=\"http://www.w3.org/2000/svg\" height=\"24px\"viewBox=\"0 0 24 24\"\n",
              "     width=\"24px\">\n",
              "    <g>\n",
              "        <path d=\"M19 3H5c-1.1 0-2 .9-2 2v14c0 1.1.9 2 2 2h14c1.1 0 2-.9 2-2V5c0-1.1-.9-2-2-2zM9 17H7v-7h2v7zm4 0h-2V7h2v10zm4 0h-2v-4h2v4z\"/>\n",
              "    </g>\n",
              "</svg>\n",
              "  </button>\n",
              "\n",
              "<style>\n",
              "  .colab-df-quickchart {\n",
              "      --bg-color: #E8F0FE;\n",
              "      --fill-color: #1967D2;\n",
              "      --hover-bg-color: #E2EBFA;\n",
              "      --hover-fill-color: #174EA6;\n",
              "      --disabled-fill-color: #AAA;\n",
              "      --disabled-bg-color: #DDD;\n",
              "  }\n",
              "\n",
              "  [theme=dark] .colab-df-quickchart {\n",
              "      --bg-color: #3B4455;\n",
              "      --fill-color: #D2E3FC;\n",
              "      --hover-bg-color: #434B5C;\n",
              "      --hover-fill-color: #FFFFFF;\n",
              "      --disabled-bg-color: #3B4455;\n",
              "      --disabled-fill-color: #666;\n",
              "  }\n",
              "\n",
              "  .colab-df-quickchart {\n",
              "    background-color: var(--bg-color);\n",
              "    border: none;\n",
              "    border-radius: 50%;\n",
              "    cursor: pointer;\n",
              "    display: none;\n",
              "    fill: var(--fill-color);\n",
              "    height: 32px;\n",
              "    padding: 0;\n",
              "    width: 32px;\n",
              "  }\n",
              "\n",
              "  .colab-df-quickchart:hover {\n",
              "    background-color: var(--hover-bg-color);\n",
              "    box-shadow: 0 1px 2px rgba(60, 64, 67, 0.3), 0 1px 3px 1px rgba(60, 64, 67, 0.15);\n",
              "    fill: var(--button-hover-fill-color);\n",
              "  }\n",
              "\n",
              "  .colab-df-quickchart-complete:disabled,\n",
              "  .colab-df-quickchart-complete:disabled:hover {\n",
              "    background-color: var(--disabled-bg-color);\n",
              "    fill: var(--disabled-fill-color);\n",
              "    box-shadow: none;\n",
              "  }\n",
              "\n",
              "  .colab-df-spinner {\n",
              "    border: 2px solid var(--fill-color);\n",
              "    border-color: transparent;\n",
              "    border-bottom-color: var(--fill-color);\n",
              "    animation:\n",
              "      spin 1s steps(1) infinite;\n",
              "  }\n",
              "\n",
              "  @keyframes spin {\n",
              "    0% {\n",
              "      border-color: transparent;\n",
              "      border-bottom-color: var(--fill-color);\n",
              "      border-left-color: var(--fill-color);\n",
              "    }\n",
              "    20% {\n",
              "      border-color: transparent;\n",
              "      border-left-color: var(--fill-color);\n",
              "      border-top-color: var(--fill-color);\n",
              "    }\n",
              "    30% {\n",
              "      border-color: transparent;\n",
              "      border-left-color: var(--fill-color);\n",
              "      border-top-color: var(--fill-color);\n",
              "      border-right-color: var(--fill-color);\n",
              "    }\n",
              "    40% {\n",
              "      border-color: transparent;\n",
              "      border-right-color: var(--fill-color);\n",
              "      border-top-color: var(--fill-color);\n",
              "    }\n",
              "    60% {\n",
              "      border-color: transparent;\n",
              "      border-right-color: var(--fill-color);\n",
              "    }\n",
              "    80% {\n",
              "      border-color: transparent;\n",
              "      border-right-color: var(--fill-color);\n",
              "      border-bottom-color: var(--fill-color);\n",
              "    }\n",
              "    90% {\n",
              "      border-color: transparent;\n",
              "      border-bottom-color: var(--fill-color);\n",
              "    }\n",
              "  }\n",
              "</style>\n",
              "\n",
              "  <script>\n",
              "    async function quickchart(key) {\n",
              "      const quickchartButtonEl =\n",
              "        document.querySelector('#' + key + ' button');\n",
              "      quickchartButtonEl.disabled = true;  // To prevent multiple clicks.\n",
              "      quickchartButtonEl.classList.add('colab-df-spinner');\n",
              "      try {\n",
              "        const charts = await google.colab.kernel.invokeFunction(\n",
              "            'suggestCharts', [key], {});\n",
              "      } catch (error) {\n",
              "        console.error('Error during call to suggestCharts:', error);\n",
              "      }\n",
              "      quickchartButtonEl.classList.remove('colab-df-spinner');\n",
              "      quickchartButtonEl.classList.add('colab-df-quickchart-complete');\n",
              "    }\n",
              "    (() => {\n",
              "      let quickchartButtonEl =\n",
              "        document.querySelector('#df-f271b601-13aa-43d0-a6b7-fb79c1ae2198 button');\n",
              "      quickchartButtonEl.style.display =\n",
              "        google.colab.kernel.accessAllowed ? 'block' : 'none';\n",
              "    })();\n",
              "  </script>\n",
              "</div>\n",
              "    </div>\n",
              "  </div>\n"
            ],
            "application/vnd.google.colaboratory.intrinsic+json": {
              "type": "dataframe",
              "variable_name": "published_in_df",
              "summary": "{\n  \"name\": \"published_in_df\",\n  \"rows\": 347,\n  \"fields\": [\n    {\n      \"column\": \"START_ID\",\n      \"properties\": {\n        \"dtype\": \"string\",\n        \"num_unique_values\": 347,\n        \"samples\": [\n          \"f6c5a2a6cccae1db5f0a753946a2e89d7d22aa5d\",\n          \"8f6bf0f8ea557aec5376ba73eb39e674156c8bd1\",\n          \"74eb4d6abf1d0236be338c1bd5ee59a498b961b1\"\n        ],\n        \"semantic_type\": \"\",\n        \"description\": \"\"\n      }\n    },\n    {\n      \"column\": \"END_ID\",\n      \"properties\": {\n        \"dtype\": \"category\",\n        \"num_unique_values\": 132,\n        \"samples\": [\n          \"705a5f2b-aaf1-41fb-bc28-be78040b4587\",\n          \"9bb66e11-4952-4228-997b-bdf48fdc94d5\",\n          \"92d34d37-5c4b-4e11-b461-9041b7de4c2d\"\n        ],\n        \"semantic_type\": \"\",\n        \"description\": \"\"\n      }\n    },\n    {\n      \"column\": \"volume\",\n      \"properties\": {\n        \"dtype\": \"category\",\n        \"num_unique_values\": 93,\n        \"samples\": [\n          \"9392\",\n          \"28\",\n          \"430 15\"\n        ],\n        \"semantic_type\": \"\",\n        \"description\": \"\"\n      }\n    },\n    {\n      \"column\": \"year\",\n      \"properties\": {\n        \"dtype\": \"number\",\n        \"std\": 4,\n        \"min\": 1987,\n        \"max\": 2022,\n        \"num_unique_values\": 28,\n        \"samples\": [\n          2015,\n          2001,\n          1993\n        ],\n        \"semantic_type\": \"\",\n        \"description\": \"\"\n      }\n    }\n  ]\n}"
            }
          },
          "metadata": {},
          "execution_count": 19
        }
      ]
    },
    {
      "cell_type": "code",
      "execution_count": 20,
      "id": "abef2f63-1f31-45b2-bab5-58590c9c2cf6",
      "metadata": {
        "id": "abef2f63-1f31-45b2-bab5-58590c9c2cf6"
      },
      "outputs": [],
      "source": [
        "for index,row in published_in_df.iterrows():\n",
        "    # Connect with the element\n",
        "    g.add((LAB.journal+\"/\"+(str(row['START_ID'])+str(row['END_ID'])),RDF.type,LAB.journal))\n",
        "    # Load all the properties\n",
        "    g.add((LAB.journal+\"/\"+(str(row['START_ID'])+str(row['END_ID'])),LAB.journal, Literal(row['volume'], datatype=XSD.string)))\n",
        "    g.add((LAB.journal+\"/\"+(str(row['START_ID'])+str(row['END_ID'])),LAB.publishing_year, Literal(row['year'], datatype=XSD.string)))"
      ]
    },
    {
      "cell_type": "markdown",
      "id": "82a8e632-2671-43af-a5a8-6f270afea595",
      "metadata": {
        "id": "82a8e632-2671-43af-a5a8-6f270afea595"
      },
      "source": [
        "### Review"
      ]
    },
    {
      "cell_type": "code",
      "execution_count": 21,
      "id": "dd395a1a-67ac-4454-962e-e0f3878a9dc7",
      "metadata": {
        "id": "dd395a1a-67ac-4454-962e-e0f3878a9dc7"
      },
      "outputs": [],
      "source": [
        "for index,row in reviews_df.iterrows():\n",
        "    # Connect with the element, notice we are using the ID of author for identifying review\n",
        "    g.add((LAB.review+\"/\"+(str(row['START_ID'])+str(row['END_ID'])),RDF.type,LAB.review))\n",
        "    # Load all the properties\n",
        "    g.add((LAB.review+\"/\"+(str(row['START_ID'])+str(row['END_ID'])),LAB.comment, Literal(row['comment'], datatype=XSD.string)))\n",
        "    g.add((LAB.review+\"/\"+(str(row['START_ID'])+str(row['END_ID'])),LAB.acceptanceProbability, Literal(row['acceptanceProbability'], datatype=XSD.string)))"
      ]
    },
    {
      "cell_type": "markdown",
      "id": "60a9c083-c8da-4be9-980c-dc210253db95",
      "metadata": {
        "id": "60a9c083-c8da-4be9-980c-dc210253db95"
      },
      "source": [
        "### Cited_paper"
      ]
    },
    {
      "cell_type": "code",
      "execution_count": 22,
      "id": "9ecadfac-c831-4596-934b-b69e1e8de50a",
      "metadata": {
        "id": "9ecadfac-c831-4596-934b-b69e1e8de50a"
      },
      "outputs": [],
      "source": [
        "for index,row in cites_df.iterrows():\n",
        "    # Connect with the element, notice we are using the ID of paper for identifying cited_paper\n",
        "    g.add((LAB.paper+\"/\"+str(row['END_ID']),RDF.type,LAB.paper))\n",
        "    # Load all the properties\n",
        "    g.add((LAB.paper+\"/\"+str(row['END_ID']),LAB.paper_id, Literal(row['END_ID'], datatype=XSD.string)))\n",
        "    matching_row = paper_df.loc[paper_df['ID'] == row['END_ID'], ['title']]\n",
        "    value = matching_row.iloc[0, 0] if not matching_row.empty else None\n",
        "    g.add((LAB.paper+\"/\"+str(row['END_ID']),LAB.paper_title, Literal(value, datatype=XSD.string)))\n",
        "    matching_row = paper_df.loc[paper_df['ID'] == row['END_ID'], ['abstract']]\n",
        "    value = matching_row.iloc[0, 0] if not matching_row.empty else None\n",
        "    g.add((LAB.paper+\"/\"+str(row['END_ID']),LAB.abstract, Literal(value, datatype=XSD.string)))\n",
        "    matching_row = paper_df.loc[paper_df['ID'] == row['END_ID'], ['pages']]\n",
        "    value = matching_row.iloc[0, 0] if not matching_row.empty else None\n",
        "    g.add((LAB.paper+\"/\"+str(row['END_ID']),LAB.num_pages, Literal(value, datatype=XSD.string)))\n",
        "    matching_row = paper_df.loc[paper_df['ID'] == row['END_ID'], ['doi']]\n",
        "    value = matching_row.iloc[0, 0] if not matching_row.empty else None\n",
        "    g.add((LAB.paper+\"/\"+str(row['END_ID']),LAB.doi, Literal(value, datatype=XSD.string)))\n",
        "    matching_row = paper_df.loc[paper_df['ID'] == row['END_ID'], ['link']]\n",
        "    value = matching_row.iloc[0, 0] if not matching_row.empty else None\n",
        "    g.add((LAB.paper+\"/\"+str(row['END_ID']),LAB.link, Literal(value, datatype=XSD.string)))"
      ]
    },
    {
      "cell_type": "markdown",
      "id": "30aa64d7-197a-49be-aaa9-e5891fd52ebd",
      "metadata": {
        "id": "30aa64d7-197a-49be-aaa9-e5891fd52ebd"
      },
      "source": [
        "### Reviewer"
      ]
    },
    {
      "cell_type": "code",
      "execution_count": 23,
      "id": "b239ac6d-0ec8-4ad8-b21b-fa64aacf4c7c",
      "metadata": {
        "id": "b239ac6d-0ec8-4ad8-b21b-fa64aacf4c7c"
      },
      "outputs": [],
      "source": [
        "for index,row in reviews_df.iterrows():\n",
        "    # Connect with the element, notice we are using the ID of author for identifying reviewer\n",
        "    g.add((LAB.person+\"/\"+str(row['START_ID']),RDF.type,LAB.reviewer))\n",
        "    # Load all the properties\n",
        "    g.add((LAB.person+\"/\"+str(row['START_ID']),LAB.person_id, Literal(row['START_ID'], datatype=XSD.string)))\n",
        "    matching_row = author_df.loc[author_df['ID'] == row['START_ID'], ['name']]\n",
        "    value = matching_row.iloc[0, 0] if not matching_row.empty else None\n",
        "    g.add((LAB.person+\"/\"+str(row['START_ID']),LAB.person_name, Literal(value, datatype=XSD.string)))\n",
        "    matching_row = author_df.loc[author_df['ID'] == row['START_ID'], ['email']]\n",
        "    value = matching_row.iloc[0, 0] if not matching_row.empty else None\n",
        "    g.add((LAB.person+\"/\"+str(row['START_ID']),LAB.email, Literal(value, datatype=XSD.string)))\n",
        "    matching_row = author_df.loc[author_df['ID'] == row['START_ID'], ['department']]\n",
        "    value = matching_row.iloc[0, 0] if not matching_row.empty else None\n",
        "    g.add((LAB.person+\"/\"+str(row['START_ID']),LAB.department, Literal(value, datatype=XSD.string)))\n",
        "    matching_row = author_df.loc[author_df['ID'] == row['START_ID'], ['institution']]\n",
        "    value = matching_row.iloc[0, 0] if not matching_row.empty else None\n",
        "    g.add((LAB.person+\"/\"+str(row['START_ID']),LAB.institution, Literal(value, datatype=XSD.string)))"
      ]
    },
    {
      "cell_type": "markdown",
      "id": "7fdae927-2a35-4c3d-a9c6-98ca26c3e77c",
      "metadata": {
        "id": "7fdae927-2a35-4c3d-a9c6-98ca26c3e77c"
      },
      "source": [
        "### Chair"
      ]
    },
    {
      "cell_type": "code",
      "execution_count": 24,
      "id": "77ad2a11-433e-4c4c-90fb-e04a8d67b3ea",
      "metadata": {
        "id": "77ad2a11-433e-4c4c-90fb-e04a8d67b3ea"
      },
      "outputs": [],
      "source": [
        "for index,row in venue_df.iterrows():\n",
        "    # Connect with the element\n",
        "    g.add((LAB.person+\"/\"+str(row['chair_ID']),RDF.type,LAB.chair))\n",
        "    # Load all the properties\n",
        "    g.add((LAB.person+\"/\"+str(row['chair_ID']),LAB.person_id, Literal(row['chair_ID'], datatype=XSD.string)))\n",
        "    matching_row = author_df.loc[author_df['ID'] == row['chair_ID'], ['name']]\n",
        "    value = matching_row.iloc[0, 0] if not matching_row.empty else None\n",
        "    g.add((LAB.person+\"/\"+str(row['chair_ID']),LAB.person_name, Literal(value, datatype=XSD.string)))\n",
        "    matching_row = author_df.loc[author_df['ID'] == row['chair_ID'], ['email']]\n",
        "    value = matching_row.iloc[0, 0] if not matching_row.empty else None\n",
        "    g.add((LAB.person+\"/\"+str(row['chair_ID']),LAB.email, Literal(value, datatype=XSD.string)))\n",
        "    matching_row = author_df.loc[author_df['ID'] == row['chair_ID'], ['department']]\n",
        "    value = matching_row.iloc[0, 0] if not matching_row.empty else None\n",
        "    g.add((LAB.person+\"/\"+str(row['chair_ID']),LAB.department, Literal(value, datatype=XSD.string)))\n",
        "    matching_row = author_df.loc[author_df['ID'] == row['chair_ID'], ['institution']]\n",
        "    value = matching_row.iloc[0, 0] if not matching_row.empty else None\n",
        "    g.add((LAB.person+\"/\"+str(row['chair_ID']),LAB.institution, Literal(value, datatype=XSD.string)))"
      ]
    },
    {
      "cell_type": "markdown",
      "id": "578d98e2-efa7-484b-b1dd-50743cb194ab",
      "metadata": {
        "id": "578d98e2-efa7-484b-b1dd-50743cb194ab"
      },
      "source": [
        "### Written_by"
      ]
    },
    {
      "cell_type": "code",
      "execution_count": 25,
      "id": "27fe7e40-0b95-4640-8668-9a14a0eb8f16",
      "metadata": {
        "id": "27fe7e40-0b95-4640-8668-9a14a0eb8f16"
      },
      "outputs": [],
      "source": [
        "# This is the relation between writes and author\n",
        "for index,row in writes_df.iterrows():\n",
        "    g.add((LAB.writes+\"/\"+(str(row['START_ID'])+str(row['END_ID'])),LAB.written_by,LAB.person+\"/\"+str(row['START_ID'])))"
      ]
    },
    {
      "cell_type": "markdown",
      "id": "17e5b8f8-5cf1-465a-9c33-0b801021e4a3",
      "metadata": {
        "id": "17e5b8f8-5cf1-465a-9c33-0b801021e4a3"
      },
      "source": [
        "### Has_written"
      ]
    },
    {
      "cell_type": "code",
      "execution_count": 26,
      "id": "980cafd6-c0d9-476e-b44a-589b1838b519",
      "metadata": {
        "id": "980cafd6-c0d9-476e-b44a-589b1838b519"
      },
      "outputs": [],
      "source": [
        "# This is the relation between writes and paper\n",
        "for index,row in writes_df.iterrows():\n",
        "    g.add((LAB.writes+\"/\"+(str(row['START_ID'])+str(row['END_ID'])),LAB.has_written,LAB.paper+\"/\"+str(row['END_ID'])))"
      ]
    },
    {
      "cell_type": "markdown",
      "id": "4f240725-b4cc-400a-899e-a466438e3fde",
      "metadata": {
        "id": "4f240725-b4cc-400a-899e-a466438e3fde"
      },
      "source": [
        "### Has_keyword"
      ]
    },
    {
      "cell_type": "code",
      "execution_count": 27,
      "id": "9b177fec-42c6-4f92-b832-3273f5598363",
      "metadata": {
        "id": "9b177fec-42c6-4f92-b832-3273f5598363"
      },
      "outputs": [],
      "source": [
        "# This is the relation between paper and keyword\n",
        "for index,row in has_df.iterrows():\n",
        "    g.add((LAB.paper+\"/\"+str(row['START_ID']),LAB.has_keyword,LAB.keyword+\"/\"+str(row['END_ID'])))"
      ]
    },
    {
      "cell_type": "markdown",
      "id": "268ecbbb-06c4-41ed-b3f9-7c80b4a4db08",
      "metadata": {
        "id": "268ecbbb-06c4-41ed-b3f9-7c80b4a4db08"
      },
      "source": [
        "\n",
        "### Part_of & Presented_in"
      ]
    },
    {
      "cell_type": "code",
      "source": [
        "for index, row in part_of_df.iterrows():\n",
        "    start_id = row['START_ID']\n",
        "    end_id = row['END_ID']\n",
        "    venue_row = venue_df[venue_df['ID'] == start_id]  # Filter venue_df for matching ID\n",
        "    if not venue_row.empty:  # Check if venue_row is not empty (ID exists in venue_df)\n",
        "        g.add((LAB.proceeding+\"/\"+str(start_id), LAB.part_of, LAB.venue+\"/\"+str(start_id)))\n",
        "    else:\n",
        "        # Handle case where ID does not exist in venue_df (if needed)\n",
        "        pass  # Placeholder for additional logic if required\n"
      ],
      "metadata": {
        "id": "jdaA08jb0MpK"
      },
      "id": "jdaA08jb0MpK",
      "execution_count": 28,
      "outputs": []
    },
    {
      "cell_type": "code",
      "execution_count": 29,
      "id": "e69db6d8-74cc-4873-ac6c-117e2c296f23",
      "metadata": {
        "id": "e69db6d8-74cc-4873-ac6c-117e2c296f23"
      },
      "outputs": [],
      "source": [
        "# This is the relation between paper and venue\n",
        "for index, row in presented_in_df.iterrows():\n",
        "    end_id = row['END_ID']\n",
        "    venue_row = venue_df[venue_df['ID'] == end_id]  # Filter venue_df for matching ID\n",
        "    if not venue_row.empty:  # Check if venue_row is not empty (ID exists in venue_df)\n",
        "        # Semantic Scholar doesn't have directly the info on the specific proceeding, so we just use the venue id\n",
        "        g.add((LAB.paper+\"/\"+str(row['START_ID']), LAB.presented_in, LAB.journal+\"/\"+str(str(row['END_ID']))))\n",
        "    else:\n",
        "        # Handle case where ID does not exist in venue_df (if needed)\n",
        "        pass  # Placeholder for additional logic if required\n",
        "\n"
      ]
    },
    {
      "cell_type": "markdown",
      "id": "b91c5caa-81e4-4634-bf83-c7d5a39d4c68",
      "metadata": {
        "id": "b91c5caa-81e4-4634-bf83-c7d5a39d4c68"
      },
      "source": [
        "### Is_chair"
      ]
    },
    {
      "cell_type": "code",
      "execution_count": 30,
      "id": "c228ec9b-f18a-4f5e-9447-e9779dd475d2",
      "metadata": {
        "id": "c228ec9b-f18a-4f5e-9447-e9779dd475d2"
      },
      "outputs": [],
      "source": [
        "for index, row in venue_df.iterrows():\n",
        "    row_venue_id = row['ID']\n",
        "    row_chair_id = row['chair_ID']\n",
        "    venue_row = venue_df[venue_df['ID'] == row_venue_id]  # Filter venue_df for matching ID\n",
        "    if not venue_row.empty:  # Check if venue_row is not empty (ID exists in venue_df)\n",
        "        g.add((LAB.venue+\"/\"+str(row_venue_id), LAB.is_chair, LAB.person+\"/\"+str(row_chair_id)))\n",
        "    else:\n",
        "        # Handle case where ID does not exist in venue_df (if needed)\n",
        "        pass  # Placeholder for additional logic if required"
      ]
    },
    {
      "cell_type": "markdown",
      "id": "04ac8d01-f19f-447a-9627-e4e0a441331b",
      "metadata": {
        "id": "04ac8d01-f19f-447a-9627-e4e0a441331b"
      },
      "source": [
        "### Published_paper"
      ]
    },
    {
      "cell_type": "code",
      "execution_count": 31,
      "id": "db4ac522-4a60-4251-a029-62bcb513a86b",
      "metadata": {
        "id": "db4ac522-4a60-4251-a029-62bcb513a86b"
      },
      "outputs": [],
      "source": [
        "# This is the relation between published_in and paper\n",
        "for index,row in published_in_df.iterrows():\n",
        "    g.add((LAB.journal+\"/\"+(str(row['START_ID'])+str(row['END_ID'])),LAB.published_paper,LAB.paper+\"/\"+str(row['START_ID'])))"
      ]
    },
    {
      "cell_type": "code",
      "source": [
        "published_in_df"
      ],
      "metadata": {
        "id": "ZheE7yN026ID",
        "colab": {
          "base_uri": "https://localhost:8080/",
          "height": 443
        },
        "outputId": "194b389f-2842-4c23-ff49-bebd83c5fbcc"
      },
      "id": "ZheE7yN026ID",
      "execution_count": 32,
      "outputs": [
        {
          "output_type": "execute_result",
          "data": {
            "text/plain": [
              "                                     START_ID  \\\n",
              "0    0c2d3b28d48426b8b72f7214a7708ba8b4efa9d6   \n",
              "1    4c6e31458b0b44c1e8bd6e58f7d7e0767f7fde44   \n",
              "2    3569c79cf90b203325dd7b8f6c30bacc60f5d30e   \n",
              "3    4ce46acc4a40038b02014c1bbce3e451586ebe05   \n",
              "4    0b1d429110757c1a9deb27fb8568740182dc1679   \n",
              "..                                        ...   \n",
              "342  f5a04ec1d43b3d5385ad450dd28dcac11e300f64   \n",
              "343  3335c340c20609b4e6de481c9eaf67ecd6c960dc   \n",
              "344  12d8a9991ee7aecc65bc0991959c5b58a367b2ae   \n",
              "345  1ee0abcb8f0afd74d602255d529d7c2a036a8f02   \n",
              "346  8ece479b5dfed4727d2d9b9763f777bb9a94096e   \n",
              "\n",
              "                                   END_ID volume  year  \n",
              "0    458166b3-de17-4bf3-bbbb-e53782de2f0f      1  2019  \n",
              "1    c6840156-ee10-4d78-8832-7f8909811576     33  2021  \n",
              "2    7a7dc89b-e1a6-44df-a496-46c330a87840      2  2021  \n",
              "3    6076bd95-0124-4b5d-8346-476b7287818c      1  2022  \n",
              "4    41dbb273-8d18-4a45-8154-852882a37b34     21  2020  \n",
              "..                                    ...    ...   ...  \n",
              "342  bc30f894-9a9c-440e-8420-7bd3c5624384      2  2018  \n",
              "343  bc30f894-9a9c-440e-8420-7bd3c5624384      3  2019  \n",
              "344  bc30f894-9a9c-440e-8420-7bd3c5624384      4  2020  \n",
              "345  bc30f894-9a9c-440e-8420-7bd3c5624384      5  2021  \n",
              "346  c6840156-ee10-4d78-8832-7f8909811576      1  2017  \n",
              "\n",
              "[347 rows x 4 columns]"
            ],
            "text/html": [
              "\n",
              "  <div id=\"df-39aafab6-48f7-40d8-b66e-502f2e6b3fe1\" class=\"colab-df-container\">\n",
              "    <div>\n",
              "<style scoped>\n",
              "    .dataframe tbody tr th:only-of-type {\n",
              "        vertical-align: middle;\n",
              "    }\n",
              "\n",
              "    .dataframe tbody tr th {\n",
              "        vertical-align: top;\n",
              "    }\n",
              "\n",
              "    .dataframe thead th {\n",
              "        text-align: right;\n",
              "    }\n",
              "</style>\n",
              "<table border=\"1\" class=\"dataframe\">\n",
              "  <thead>\n",
              "    <tr style=\"text-align: right;\">\n",
              "      <th></th>\n",
              "      <th>START_ID</th>\n",
              "      <th>END_ID</th>\n",
              "      <th>volume</th>\n",
              "      <th>year</th>\n",
              "    </tr>\n",
              "  </thead>\n",
              "  <tbody>\n",
              "    <tr>\n",
              "      <th>0</th>\n",
              "      <td>0c2d3b28d48426b8b72f7214a7708ba8b4efa9d6</td>\n",
              "      <td>458166b3-de17-4bf3-bbbb-e53782de2f0f</td>\n",
              "      <td>1</td>\n",
              "      <td>2019</td>\n",
              "    </tr>\n",
              "    <tr>\n",
              "      <th>1</th>\n",
              "      <td>4c6e31458b0b44c1e8bd6e58f7d7e0767f7fde44</td>\n",
              "      <td>c6840156-ee10-4d78-8832-7f8909811576</td>\n",
              "      <td>33</td>\n",
              "      <td>2021</td>\n",
              "    </tr>\n",
              "    <tr>\n",
              "      <th>2</th>\n",
              "      <td>3569c79cf90b203325dd7b8f6c30bacc60f5d30e</td>\n",
              "      <td>7a7dc89b-e1a6-44df-a496-46c330a87840</td>\n",
              "      <td>2</td>\n",
              "      <td>2021</td>\n",
              "    </tr>\n",
              "    <tr>\n",
              "      <th>3</th>\n",
              "      <td>4ce46acc4a40038b02014c1bbce3e451586ebe05</td>\n",
              "      <td>6076bd95-0124-4b5d-8346-476b7287818c</td>\n",
              "      <td>1</td>\n",
              "      <td>2022</td>\n",
              "    </tr>\n",
              "    <tr>\n",
              "      <th>4</th>\n",
              "      <td>0b1d429110757c1a9deb27fb8568740182dc1679</td>\n",
              "      <td>41dbb273-8d18-4a45-8154-852882a37b34</td>\n",
              "      <td>21</td>\n",
              "      <td>2020</td>\n",
              "    </tr>\n",
              "    <tr>\n",
              "      <th>...</th>\n",
              "      <td>...</td>\n",
              "      <td>...</td>\n",
              "      <td>...</td>\n",
              "      <td>...</td>\n",
              "    </tr>\n",
              "    <tr>\n",
              "      <th>342</th>\n",
              "      <td>f5a04ec1d43b3d5385ad450dd28dcac11e300f64</td>\n",
              "      <td>bc30f894-9a9c-440e-8420-7bd3c5624384</td>\n",
              "      <td>2</td>\n",
              "      <td>2018</td>\n",
              "    </tr>\n",
              "    <tr>\n",
              "      <th>343</th>\n",
              "      <td>3335c340c20609b4e6de481c9eaf67ecd6c960dc</td>\n",
              "      <td>bc30f894-9a9c-440e-8420-7bd3c5624384</td>\n",
              "      <td>3</td>\n",
              "      <td>2019</td>\n",
              "    </tr>\n",
              "    <tr>\n",
              "      <th>344</th>\n",
              "      <td>12d8a9991ee7aecc65bc0991959c5b58a367b2ae</td>\n",
              "      <td>bc30f894-9a9c-440e-8420-7bd3c5624384</td>\n",
              "      <td>4</td>\n",
              "      <td>2020</td>\n",
              "    </tr>\n",
              "    <tr>\n",
              "      <th>345</th>\n",
              "      <td>1ee0abcb8f0afd74d602255d529d7c2a036a8f02</td>\n",
              "      <td>bc30f894-9a9c-440e-8420-7bd3c5624384</td>\n",
              "      <td>5</td>\n",
              "      <td>2021</td>\n",
              "    </tr>\n",
              "    <tr>\n",
              "      <th>346</th>\n",
              "      <td>8ece479b5dfed4727d2d9b9763f777bb9a94096e</td>\n",
              "      <td>c6840156-ee10-4d78-8832-7f8909811576</td>\n",
              "      <td>1</td>\n",
              "      <td>2017</td>\n",
              "    </tr>\n",
              "  </tbody>\n",
              "</table>\n",
              "<p>347 rows × 4 columns</p>\n",
              "</div>\n",
              "    <div class=\"colab-df-buttons\">\n",
              "\n",
              "  <div class=\"colab-df-container\">\n",
              "    <button class=\"colab-df-convert\" onclick=\"convertToInteractive('df-39aafab6-48f7-40d8-b66e-502f2e6b3fe1')\"\n",
              "            title=\"Convert this dataframe to an interactive table.\"\n",
              "            style=\"display:none;\">\n",
              "\n",
              "  <svg xmlns=\"http://www.w3.org/2000/svg\" height=\"24px\" viewBox=\"0 -960 960 960\">\n",
              "    <path d=\"M120-120v-720h720v720H120Zm60-500h600v-160H180v160Zm220 220h160v-160H400v160Zm0 220h160v-160H400v160ZM180-400h160v-160H180v160Zm440 0h160v-160H620v160ZM180-180h160v-160H180v160Zm440 0h160v-160H620v160Z\"/>\n",
              "  </svg>\n",
              "    </button>\n",
              "\n",
              "  <style>\n",
              "    .colab-df-container {\n",
              "      display:flex;\n",
              "      gap: 12px;\n",
              "    }\n",
              "\n",
              "    .colab-df-convert {\n",
              "      background-color: #E8F0FE;\n",
              "      border: none;\n",
              "      border-radius: 50%;\n",
              "      cursor: pointer;\n",
              "      display: none;\n",
              "      fill: #1967D2;\n",
              "      height: 32px;\n",
              "      padding: 0 0 0 0;\n",
              "      width: 32px;\n",
              "    }\n",
              "\n",
              "    .colab-df-convert:hover {\n",
              "      background-color: #E2EBFA;\n",
              "      box-shadow: 0px 1px 2px rgba(60, 64, 67, 0.3), 0px 1px 3px 1px rgba(60, 64, 67, 0.15);\n",
              "      fill: #174EA6;\n",
              "    }\n",
              "\n",
              "    .colab-df-buttons div {\n",
              "      margin-bottom: 4px;\n",
              "    }\n",
              "\n",
              "    [theme=dark] .colab-df-convert {\n",
              "      background-color: #3B4455;\n",
              "      fill: #D2E3FC;\n",
              "    }\n",
              "\n",
              "    [theme=dark] .colab-df-convert:hover {\n",
              "      background-color: #434B5C;\n",
              "      box-shadow: 0px 1px 3px 1px rgba(0, 0, 0, 0.15);\n",
              "      filter: drop-shadow(0px 1px 2px rgba(0, 0, 0, 0.3));\n",
              "      fill: #FFFFFF;\n",
              "    }\n",
              "  </style>\n",
              "\n",
              "    <script>\n",
              "      const buttonEl =\n",
              "        document.querySelector('#df-39aafab6-48f7-40d8-b66e-502f2e6b3fe1 button.colab-df-convert');\n",
              "      buttonEl.style.display =\n",
              "        google.colab.kernel.accessAllowed ? 'block' : 'none';\n",
              "\n",
              "      async function convertToInteractive(key) {\n",
              "        const element = document.querySelector('#df-39aafab6-48f7-40d8-b66e-502f2e6b3fe1');\n",
              "        const dataTable =\n",
              "          await google.colab.kernel.invokeFunction('convertToInteractive',\n",
              "                                                    [key], {});\n",
              "        if (!dataTable) return;\n",
              "\n",
              "        const docLinkHtml = 'Like what you see? Visit the ' +\n",
              "          '<a target=\"_blank\" href=https://colab.research.google.com/notebooks/data_table.ipynb>data table notebook</a>'\n",
              "          + ' to learn more about interactive tables.';\n",
              "        element.innerHTML = '';\n",
              "        dataTable['output_type'] = 'display_data';\n",
              "        await google.colab.output.renderOutput(dataTable, element);\n",
              "        const docLink = document.createElement('div');\n",
              "        docLink.innerHTML = docLinkHtml;\n",
              "        element.appendChild(docLink);\n",
              "      }\n",
              "    </script>\n",
              "  </div>\n",
              "\n",
              "\n",
              "<div id=\"df-439d59a6-05d2-4ddc-bcbc-e81e9c0a6f72\">\n",
              "  <button class=\"colab-df-quickchart\" onclick=\"quickchart('df-439d59a6-05d2-4ddc-bcbc-e81e9c0a6f72')\"\n",
              "            title=\"Suggest charts\"\n",
              "            style=\"display:none;\">\n",
              "\n",
              "<svg xmlns=\"http://www.w3.org/2000/svg\" height=\"24px\"viewBox=\"0 0 24 24\"\n",
              "     width=\"24px\">\n",
              "    <g>\n",
              "        <path d=\"M19 3H5c-1.1 0-2 .9-2 2v14c0 1.1.9 2 2 2h14c1.1 0 2-.9 2-2V5c0-1.1-.9-2-2-2zM9 17H7v-7h2v7zm4 0h-2V7h2v10zm4 0h-2v-4h2v4z\"/>\n",
              "    </g>\n",
              "</svg>\n",
              "  </button>\n",
              "\n",
              "<style>\n",
              "  .colab-df-quickchart {\n",
              "      --bg-color: #E8F0FE;\n",
              "      --fill-color: #1967D2;\n",
              "      --hover-bg-color: #E2EBFA;\n",
              "      --hover-fill-color: #174EA6;\n",
              "      --disabled-fill-color: #AAA;\n",
              "      --disabled-bg-color: #DDD;\n",
              "  }\n",
              "\n",
              "  [theme=dark] .colab-df-quickchart {\n",
              "      --bg-color: #3B4455;\n",
              "      --fill-color: #D2E3FC;\n",
              "      --hover-bg-color: #434B5C;\n",
              "      --hover-fill-color: #FFFFFF;\n",
              "      --disabled-bg-color: #3B4455;\n",
              "      --disabled-fill-color: #666;\n",
              "  }\n",
              "\n",
              "  .colab-df-quickchart {\n",
              "    background-color: var(--bg-color);\n",
              "    border: none;\n",
              "    border-radius: 50%;\n",
              "    cursor: pointer;\n",
              "    display: none;\n",
              "    fill: var(--fill-color);\n",
              "    height: 32px;\n",
              "    padding: 0;\n",
              "    width: 32px;\n",
              "  }\n",
              "\n",
              "  .colab-df-quickchart:hover {\n",
              "    background-color: var(--hover-bg-color);\n",
              "    box-shadow: 0 1px 2px rgba(60, 64, 67, 0.3), 0 1px 3px 1px rgba(60, 64, 67, 0.15);\n",
              "    fill: var(--button-hover-fill-color);\n",
              "  }\n",
              "\n",
              "  .colab-df-quickchart-complete:disabled,\n",
              "  .colab-df-quickchart-complete:disabled:hover {\n",
              "    background-color: var(--disabled-bg-color);\n",
              "    fill: var(--disabled-fill-color);\n",
              "    box-shadow: none;\n",
              "  }\n",
              "\n",
              "  .colab-df-spinner {\n",
              "    border: 2px solid var(--fill-color);\n",
              "    border-color: transparent;\n",
              "    border-bottom-color: var(--fill-color);\n",
              "    animation:\n",
              "      spin 1s steps(1) infinite;\n",
              "  }\n",
              "\n",
              "  @keyframes spin {\n",
              "    0% {\n",
              "      border-color: transparent;\n",
              "      border-bottom-color: var(--fill-color);\n",
              "      border-left-color: var(--fill-color);\n",
              "    }\n",
              "    20% {\n",
              "      border-color: transparent;\n",
              "      border-left-color: var(--fill-color);\n",
              "      border-top-color: var(--fill-color);\n",
              "    }\n",
              "    30% {\n",
              "      border-color: transparent;\n",
              "      border-left-color: var(--fill-color);\n",
              "      border-top-color: var(--fill-color);\n",
              "      border-right-color: var(--fill-color);\n",
              "    }\n",
              "    40% {\n",
              "      border-color: transparent;\n",
              "      border-right-color: var(--fill-color);\n",
              "      border-top-color: var(--fill-color);\n",
              "    }\n",
              "    60% {\n",
              "      border-color: transparent;\n",
              "      border-right-color: var(--fill-color);\n",
              "    }\n",
              "    80% {\n",
              "      border-color: transparent;\n",
              "      border-right-color: var(--fill-color);\n",
              "      border-bottom-color: var(--fill-color);\n",
              "    }\n",
              "    90% {\n",
              "      border-color: transparent;\n",
              "      border-bottom-color: var(--fill-color);\n",
              "    }\n",
              "  }\n",
              "</style>\n",
              "\n",
              "  <script>\n",
              "    async function quickchart(key) {\n",
              "      const quickchartButtonEl =\n",
              "        document.querySelector('#' + key + ' button');\n",
              "      quickchartButtonEl.disabled = true;  // To prevent multiple clicks.\n",
              "      quickchartButtonEl.classList.add('colab-df-spinner');\n",
              "      try {\n",
              "        const charts = await google.colab.kernel.invokeFunction(\n",
              "            'suggestCharts', [key], {});\n",
              "      } catch (error) {\n",
              "        console.error('Error during call to suggestCharts:', error);\n",
              "      }\n",
              "      quickchartButtonEl.classList.remove('colab-df-spinner');\n",
              "      quickchartButtonEl.classList.add('colab-df-quickchart-complete');\n",
              "    }\n",
              "    (() => {\n",
              "      let quickchartButtonEl =\n",
              "        document.querySelector('#df-439d59a6-05d2-4ddc-bcbc-e81e9c0a6f72 button');\n",
              "      quickchartButtonEl.style.display =\n",
              "        google.colab.kernel.accessAllowed ? 'block' : 'none';\n",
              "    })();\n",
              "  </script>\n",
              "</div>\n",
              "    </div>\n",
              "  </div>\n"
            ],
            "application/vnd.google.colaboratory.intrinsic+json": {
              "type": "dataframe",
              "variable_name": "published_in_df",
              "summary": "{\n  \"name\": \"published_in_df\",\n  \"rows\": 347,\n  \"fields\": [\n    {\n      \"column\": \"START_ID\",\n      \"properties\": {\n        \"dtype\": \"string\",\n        \"num_unique_values\": 347,\n        \"samples\": [\n          \"f6c5a2a6cccae1db5f0a753946a2e89d7d22aa5d\",\n          \"8f6bf0f8ea557aec5376ba73eb39e674156c8bd1\",\n          \"74eb4d6abf1d0236be338c1bd5ee59a498b961b1\"\n        ],\n        \"semantic_type\": \"\",\n        \"description\": \"\"\n      }\n    },\n    {\n      \"column\": \"END_ID\",\n      \"properties\": {\n        \"dtype\": \"category\",\n        \"num_unique_values\": 132,\n        \"samples\": [\n          \"705a5f2b-aaf1-41fb-bc28-be78040b4587\",\n          \"9bb66e11-4952-4228-997b-bdf48fdc94d5\",\n          \"92d34d37-5c4b-4e11-b461-9041b7de4c2d\"\n        ],\n        \"semantic_type\": \"\",\n        \"description\": \"\"\n      }\n    },\n    {\n      \"column\": \"volume\",\n      \"properties\": {\n        \"dtype\": \"category\",\n        \"num_unique_values\": 93,\n        \"samples\": [\n          \"9392\",\n          \"28\",\n          \"430 15\"\n        ],\n        \"semantic_type\": \"\",\n        \"description\": \"\"\n      }\n    },\n    {\n      \"column\": \"year\",\n      \"properties\": {\n        \"dtype\": \"number\",\n        \"std\": 4,\n        \"min\": 1987,\n        \"max\": 2022,\n        \"num_unique_values\": 28,\n        \"samples\": [\n          2015,\n          2001,\n          1993\n        ],\n        \"semantic_type\": \"\",\n        \"description\": \"\"\n      }\n    }\n  ]\n}"
            }
          },
          "metadata": {},
          "execution_count": 32
        }
      ]
    },
    {
      "cell_type": "markdown",
      "id": "6412bd74-9d67-454f-989c-387d0ee4a914",
      "metadata": {
        "id": "6412bd74-9d67-454f-989c-387d0ee4a914"
      },
      "source": [
        "### In_journal"
      ]
    },
    {
      "cell_type": "code",
      "execution_count": 33,
      "id": "ecd04e66-60ff-425f-9cf2-bf749b59f1d9",
      "metadata": {
        "id": "ecd04e66-60ff-425f-9cf2-bf749b59f1d9"
      },
      "outputs": [],
      "source": [
        "# This is the relation between published_in and journal\n",
        "for index,row in published_in_df.iterrows():\n",
        "    g.add((LAB.journal+\"/\"+(str(row['START_ID'])+str(row['END_ID'])),LAB.in_volume,LAB.journal+\"/\"+str(row['END_ID'])))"
      ]
    },
    {
      "cell_type": "markdown",
      "id": "086bdc75-641e-4508-8620-c932f2f9b4de",
      "metadata": {
        "id": "086bdc75-641e-4508-8620-c932f2f9b4de"
      },
      "source": [
        "### Cited"
      ]
    },
    {
      "cell_type": "code",
      "execution_count": 34,
      "id": "a4d3355c-7e30-450b-b269-70b157936a2b",
      "metadata": {
        "id": "a4d3355c-7e30-450b-b269-70b157936a2b"
      },
      "outputs": [],
      "source": [
        "# This is the relation between paper and cited_paper\n",
        "for index,row in cites_df.iterrows():\n",
        "    g.add((LAB.paper+\"/\"+str(row['START_ID']),LAB.cites,LAB.paper+\"/\"+str(row['END_ID'])))"
      ]
    },
    {
      "cell_type": "markdown",
      "id": "a954ab64-e506-43b0-9429-74f87767cc5e",
      "metadata": {
        "id": "a954ab64-e506-43b0-9429-74f87767cc5e"
      },
      "source": [
        "### Reviews"
      ]
    },
    {
      "cell_type": "code",
      "execution_count": 35,
      "id": "2bb41d0b-b3b7-4c25-a706-57c86ed9acdd",
      "metadata": {
        "id": "2bb41d0b-b3b7-4c25-a706-57c86ed9acdd"
      },
      "outputs": [],
      "source": [
        "# This is the relation between review and paper\n",
        "for index,row in reviews_df.iterrows():\n",
        "    g.add((LAB.review+\"/\"+(str(row['START_ID'])+str(row['END_ID'])),LAB.reviews,LAB.paper+\"/\"+str(row['END_ID'])))"
      ]
    },
    {
      "cell_type": "markdown",
      "id": "142b64b6-7558-4efd-b595-62a97e8dfc36",
      "metadata": {
        "id": "142b64b6-7558-4efd-b595-62a97e8dfc36"
      },
      "source": [
        "### Reviewed_by"
      ]
    },
    {
      "cell_type": "code",
      "execution_count": 36,
      "id": "ef41ed29-7db1-4f37-82a0-026f2cc58ed8",
      "metadata": {
        "id": "ef41ed29-7db1-4f37-82a0-026f2cc58ed8"
      },
      "outputs": [],
      "source": [
        "# This is the relation between review and reviewer\n",
        "for index,row in reviews_df.iterrows():\n",
        "    g.add((LAB.review+\"/\"+(str(row['START_ID'])+str(row['END_ID'])),LAB.reviewed_by,LAB.person+\"/\"+str(row['START_ID'])))"
      ]
    },
    {
      "cell_type": "markdown",
      "id": "8bd93b10-ada0-4b9d-b302-54320fa92c13",
      "metadata": {
        "id": "8bd93b10-ada0-4b9d-b302-54320fa92c13"
      },
      "source": [
        "## Serialize\n",
        "Finally we can save the final graph"
      ]
    },
    {
      "cell_type": "code",
      "execution_count": 37,
      "id": "bdc82e9a-1dcb-43fc-81f9-5afcb71b0c71",
      "metadata": {
        "id": "bdc82e9a-1dcb-43fc-81f9-5afcb71b0c71",
        "colab": {
          "base_uri": "https://localhost:8080/"
        },
        "outputId": "5fb91367-fe44-4fac-c784-3f8671849666"
      },
      "outputs": [
        {
          "output_type": "execute_result",
          "data": {
            "text/plain": [
              "<Graph identifier=Ne9c27efc418848399a7ac0eec5231d6a (<class 'rdflib.graph.Graph'>)>"
            ]
          },
          "metadata": {},
          "execution_count": 37
        }
      ],
      "source": [
        "g.serialize('abox.ttl',format='turtle')"
      ]
    },
    {
      "cell_type": "markdown",
      "id": "68991719-9e31-4e28-8bd5-f978d9f2a607",
      "metadata": {
        "id": "68991719-9e31-4e28-8bd5-f978d9f2a607"
      },
      "source": [
        "# B.4 Querying the ontology\n",
        "Once the ontology is fully created, we can query in it. The queries asked are the following:"
      ]
    },
    {
      "cell_type": "raw",
      "id": "9371bc93-ec03-43a1-a1f2-cbd137232f4f",
      "metadata": {
        "vscode": {
          "languageId": "raw"
        },
        "id": "9371bc93-ec03-43a1-a1f2-cbd137232f4f"
      },
      "source": [
        "1. Find all Authors\n",
        "\n",
        "PREFIX LAB: <http://www.example.edu/>\n",
        "PREFIX rdfs: <http://www.w3.org/2000/01/rdf-schema#>\n",
        "PREFIX rdf: <http://www.w3.org/1999/02/22-rdf-syntax-ns#>\n",
        "\n",
        "SELECT DISTINCT ?id ?name ?email ?department ?institution WHERE {\n",
        "    ?w LAB:written_by ?a .\n",
        "    ?w LAB:has_written ?p .\n",
        "    ?a LAB:person_name ?name .\n",
        "    ?a rdf:type LAB:author .\n",
        "    ?a LAB:person_id ?id .\n",
        "    ?a LAB:email ?email .\n",
        "    ?a LAB:department ?department .\n",
        "    ?a LAB:institution ?institution\n",
        "}\n",
        "\n",
        "2. Find all properties whose domain is Author.\n",
        "\n",
        "PREFIX ns1: <http://www.example.edu/>\n",
        "PREFIX LAB: <http://www.example.edu/>\n",
        "PREFIX rdfs: <http://www.w3.org/2000/01/rdf-schema#>\n",
        "PREFIX rdf: <http://www.w3.org/1999/02/22-rdf-syntax-ns#>\n",
        "\n",
        "SELECT DISTINCT ?property WHERE {\n",
        "    {\n",
        "    \t?property rdfs:domain LAB:author .\n",
        "  \t}\n",
        "  \tUNION\n",
        "  \t{\n",
        "    \tLAB:author rdfs:subClassOf* ?superclass .\n",
        "    \t?property rdfs:domain ?superclass .\n",
        "  \t}\n",
        "}\n",
        "\n",
        "3. Find all properties whose domain is either Conference or Journal.\n",
        "\n",
        "PREFIX ns1: <http://www.example.edu/>\n",
        "PREFIX LAB: <http://www.example.edu/>\n",
        "PREFIX rdfs: <http://www.w3.org/2000/01/rdf-schema#>\n",
        "PREFIX rdf: <http://www.w3.org/1999/02/22-rdf-syntax-ns#>\n",
        "\n",
        "SELECT DISTINCT ?property WHERE {\n",
        "    {\n",
        "    \t?property rdfs:domain LAB:conference .\n",
        "  \t}\n",
        "  \tUNION\n",
        "  \t{\n",
        "    \tLAB:conference rdfs:subClassOf* ?superclass .\n",
        "    \t?property rdfs:domain ?superclass .\n",
        "  \t}\n",
        "  \tUNION\n",
        "  \t{\n",
        "    \t?property rdfs:domain LAB:journal .\n",
        "  \t}\n",
        "}\n",
        "\n",
        "4. Find all the papers written by a given author that where published in database conferences.\n",
        "\n",
        "PREFIX LAB: <http://www.example.edu/>\n",
        "PREFIX rdfs: <http://www.w3.org/2000/01/rdf-schema#>\n",
        "PREFIX rdf: <http://www.w3.org/1999/02/22-rdf-syntax-ns#>\n",
        "\n",
        "SELECT DISTINCT ?p ?title WHERE {\n",
        "    ?p LAB:has_keyword ?k .\n",
        "    ?k LAB:keyword_name \"Big Data\" .\n",
        "    ?w LAB:has_written ?p .\n",
        "    ?w LAB:written_by ?a .\n",
        "    ?a LAB:person_name \"A. Bateman\" .\n",
        "    ?p LAB:paper_title ?title .\n",
        "}\n",
        "\n",
        "For this last query we filtered the papers on the keyword \"Big Data\" since our dataset do not have papers with the keyword \"Database\". In addition,\n",
        "we chose an arbitrary author, \"A. Bateman\"."
      ]
    },
    {
      "cell_type": "markdown",
      "id": "176f4b59",
      "metadata": {
        "id": "176f4b59"
      },
      "source": [
        "# Notes for the repport\n",
        "In this parragraph, I will add some notes regarding the model and the reasons behind its structure. The schema can be found in the file schema.png of the github. Let's start talking about the preprocess:\n",
        "1. I added a new column in venue_df that is type bool and determines if the row is a conference or not. In the statement, it is mentioned that we have to have a conference/workshop and the different between this two is that normally a conference takes longer than a workshop, so I just assigned conference to anything that contains the word conference in its name and workshop to anything else.\n",
        "2. I added a new column in venue_df that picks a random id from author_df. I did this because the statement mentions that in every conference there is a chair, that I assume must also be an author, that assigns normally 3 reviewers to every paper presented in the conference/workshop.\n",
        "\n",
        "We should also explain the reasons behind the tbox defined:\n",
        "1. There is a class person such that author, reviewer and chair are subclasses of person, this is done for obvious reasons. They must all share the same properties. I have the question here if I should not bother with the person class and define a class author such that chair and reviewer are subclasses from author.\n",
        "2. The same way as the previous point, we defined a class paper and a subclass cited_paper. Notice that in the previous casse all the nodes present in our schema where subclasses of something we called person, but this time the class is also present in the model. I did this because I think it makes sense since all the cited_papers have to appear in the paper node as well.\n",
        "3. Conference and workshop have been added as subclasses of the class venue, since the interesting thing here is probably that we defined relations between paper and venue and between venue and proceeding, and not directly to conference and workshop. This is done because they share all the relations that they have with other nodes so there is no point in defining extra relations that are subclasses of one relation.\n",
        "4. Since the data we are using from the property graph project had attributes assigned to some relationship, we created classes for those relationships that had attributes, i.e. in our model presented_in, writes, review are classes with their own properties.\n",
        "\n",
        "Finally, I want to add to the discussion the thing that concerns me the most with this model. This model had a problem, that is that if we wanted for example to see the papers written by the reviewer of certain paper, this was impossible. This is because if we define that a relation is given by person and paper, person and only person can use this relation, and not any of its subclasses. This is something that I honestly don't understand why happens, RDFS should allow subclasses to use the relations of its superclass. The way I solved this is assigning to every element the UriRef of its superclass, that is, that the identifier of an author is gonna be http://www.example.edu/person/23487612 for an author with id 23487612. This way, although this element belongs to the class author, it is also an element from the class person and I can use both relationships. However, one problem arises from this solution, and you can see that problem in the queries of the ontology. The ideal would be that if I want to find all properties whose domain is author. I could just do ?property rdfs:domain LAB:author, but this will not give me all the properties since I will be missing the ones I am taking from the superclass person."
      ]
    }
  ],
  "metadata": {
    "kernelspec": {
      "display_name": "Python 3 (ipykernel)",
      "language": "python",
      "name": "python3"
    },
    "language_info": {
      "codemirror_mode": {
        "name": "ipython",
        "version": 3
      },
      "file_extension": ".py",
      "mimetype": "text/x-python",
      "name": "python",
      "nbconvert_exporter": "python",
      "pygments_lexer": "ipython3",
      "version": "3.10.12"
    },
    "colab": {
      "provenance": []
    }
  },
  "nbformat": 4,
  "nbformat_minor": 5
}
